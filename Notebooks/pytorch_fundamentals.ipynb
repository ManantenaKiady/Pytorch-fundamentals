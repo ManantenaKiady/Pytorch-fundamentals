{
  "nbformat": 4,
  "nbformat_minor": 0,
  "metadata": {
    "colab": {
      "provenance": [],
      "authorship_tag": "ABX9TyNDVmEzSsoniIFo9d0UkDeq",
      "include_colab_link": true
    },
    "kernelspec": {
      "name": "python3",
      "display_name": "Python 3"
    },
    "language_info": {
      "name": "python"
    },
    "accelerator": "GPU",
    "gpuClass": "standard"
  },
  "cells": [
    {
      "cell_type": "markdown",
      "metadata": {
        "id": "view-in-github",
        "colab_type": "text"
      },
      "source": [
        "<a href=\"https://colab.research.google.com/github/ManantenaKiady/Pytorch-fundamentals/blob/master/Notebooks/pytorch_fundamentals.ipynb\" target=\"_parent\"><img src=\"https://colab.research.google.com/assets/colab-badge.svg\" alt=\"Open In Colab\"/></a>"
      ]
    },
    {
      "cell_type": "markdown",
      "source": [
        "# What we will cover\n",
        "\n",
        "In this notebook, we will explore the building blocks of Pytorch \n",
        "- What is Pytorch ?\n",
        "- Why Pytorch ?\n",
        "- Installing Pytorch\n",
        "- Tensors\n",
        "- Learning Algorithms (Backpropagation)\n",
        "  - Forward and Backward Pass\n",
        "  - Auto-Grad\n",
        "  - Optimizers\n",
        "- Workflow\n",
        "  - Toy Project: Linear Regression\n",
        "- Datasets\n",
        "  - DataLoader"
      ],
      "metadata": {
        "id": "qW0i2hltaTvH"
      }
    },
    {
      "cell_type": "markdown",
      "source": [
        "## 1- What is Pytorch\n",
        "\n",
        "It is an open source deep learning and machine learning framework developed by Meta (Facebook) and now in maintained by Linux Fundation community. \n",
        "\n",
        "Link: https://pytorch.org/\n",
        "\n",
        "\n",
        "\n"
      ],
      "metadata": {
        "id": "fmQHHG-aEo_8"
      }
    },
    {
      "cell_type": "markdown",
      "source": [
        "## 2- Why Pytorch ?\n",
        "\n",
        "- Used by the worlds largest tech companies such as Meta (Facebook), Tesla, Microsoft and Open AI.\n",
        "\n",
        "- The most used deep learning framework in research.\n",
        "\n",
        "- Pythonic"
      ],
      "metadata": {
        "id": "8bkvGeIkF1Iv"
      }
    },
    {
      "cell_type": "markdown",
      "source": [
        "## 3- Setup\n",
        "\n",
        "Setting up Pytorch 1.13.0, the latest stable release along with other needed libraries and packages."
      ],
      "metadata": {
        "id": "3CMW9YBCK2fb"
      }
    },
    {
      "cell_type": "markdown",
      "source": [
        "To install Pytorch\n",
        "\n",
        "* Go to https://pytorch.org/get-started/locally/ and download the latest Pytorch release. Follows the instructions"
      ],
      "metadata": {
        "id": "mjffCWtOGlr2"
      }
    },
    {
      "cell_type": "code",
      "source": [
        "!pip3 install torch torchvision torchaudio\n",
        "\n",
        "# Check the installed version \n",
        "import torch\n",
        "torch.__version__\n"
      ],
      "metadata": {
        "colab": {
          "base_uri": "https://localhost:8080/",
          "height": 244
        },
        "id": "T1e84HnmO-A7",
        "outputId": "dd5c334f-7a9d-4cf4-80f8-2c6117df5a7a"
      },
      "execution_count": 1,
      "outputs": [
        {
          "output_type": "stream",
          "name": "stdout",
          "text": [
            "Looking in indexes: https://pypi.org/simple, https://us-python.pkg.dev/colab-wheels/public/simple/\n",
            "Requirement already satisfied: torch in /usr/local/lib/python3.8/dist-packages (1.13.0+cu116)\n",
            "Requirement already satisfied: torchvision in /usr/local/lib/python3.8/dist-packages (0.14.0+cu116)\n",
            "Requirement already satisfied: torchaudio in /usr/local/lib/python3.8/dist-packages (0.13.0+cu116)\n",
            "Requirement already satisfied: typing-extensions in /usr/local/lib/python3.8/dist-packages (from torch) (4.4.0)\n",
            "Requirement already satisfied: requests in /usr/local/lib/python3.8/dist-packages (from torchvision) (2.23.0)\n",
            "Requirement already satisfied: pillow!=8.3.*,>=5.3.0 in /usr/local/lib/python3.8/dist-packages (from torchvision) (7.1.2)\n",
            "Requirement already satisfied: numpy in /usr/local/lib/python3.8/dist-packages (from torchvision) (1.21.6)\n",
            "Requirement already satisfied: urllib3!=1.25.0,!=1.25.1,<1.26,>=1.21.1 in /usr/local/lib/python3.8/dist-packages (from requests->torchvision) (1.24.3)\n",
            "Requirement already satisfied: certifi>=2017.4.17 in /usr/local/lib/python3.8/dist-packages (from requests->torchvision) (2022.12.7)\n",
            "Requirement already satisfied: chardet<4,>=3.0.2 in /usr/local/lib/python3.8/dist-packages (from requests->torchvision) (3.0.4)\n",
            "Requirement already satisfied: idna<3,>=2.5 in /usr/local/lib/python3.8/dist-packages (from requests->torchvision) (2.10)\n"
          ]
        },
        {
          "output_type": "execute_result",
          "data": {
            "text/plain": [
              "'1.13.0+cu116'"
            ],
            "application/vnd.google.colaboratory.intrinsic+json": {
              "type": "string"
            }
          },
          "metadata": {},
          "execution_count": 1
        }
      ]
    },
    {
      "cell_type": "markdown",
      "source": [
        "Configure"
      ],
      "metadata": {
        "id": "D5PucLM_PFLR"
      }
    },
    {
      "cell_type": "code",
      "source": [
        "# Check if GPU are available and set the device to use it\n",
        "device = \"cuda\" if torch.cuda.is_available() else \"cpu\"\n",
        "print(f\"Using {device} device\")"
      ],
      "metadata": {
        "colab": {
          "base_uri": "https://localhost:8080/"
        },
        "id": "1WOymlHgPEsO",
        "outputId": "f01ae3d0-1819-4991-e874-7aada40dc7c4"
      },
      "execution_count": 2,
      "outputs": [
        {
          "output_type": "stream",
          "name": "stdout",
          "text": [
            "Using cuda device\n"
          ]
        }
      ]
    },
    {
      "cell_type": "markdown",
      "source": [
        "## 4- Tensors\n",
        "\n",
        "Tensors are a specialized data structure that are very similar to arrays and matrices. (Multidimentional Arrays)\n",
        " \n",
        "*Source: https://pytorch.org/tutorials/*\n",
        "\n",
        "eg of tensors: \n",
        "\n",
        "`scalar: 1`\n",
        "\n",
        "`vector: [1, 2, 3]`\n",
        "\n",
        "`matrices: [[1,2,3][4,5,6]]`"
      ],
      "metadata": {
        "id": "2jzRRc2fe_0t"
      }
    },
    {
      "cell_type": "code",
      "execution_count": 3,
      "metadata": {
        "id": "tWn-SqNVaMtX"
      },
      "outputs": [],
      "source": [
        "import torch"
      ]
    },
    {
      "cell_type": "markdown",
      "source": [
        "### Initialize Tensors with `torch`"
      ],
      "metadata": {
        "id": "jOnP5mbghqp5"
      }
    },
    {
      "cell_type": "markdown",
      "source": [
        "**From Python list**"
      ],
      "metadata": {
        "id": "PFeLQaeai5h9"
      }
    },
    {
      "cell_type": "code",
      "source": [
        "# List of list in Python \n",
        "m = [[1,2,3],[4,5,6]]\n",
        "# Creating a tensor from list of list\n",
        "M = torch.tensor(m)\n",
        "\n",
        "print(f\"Type of m: {type(m)}\")\n",
        "print(f\"Type of M: {type(M)}\")"
      ],
      "metadata": {
        "colab": {
          "base_uri": "https://localhost:8080/"
        },
        "id": "NWrfT_rnhZfd",
        "outputId": "ebd36491-dec6-4c01-c262-57a655c00832"
      },
      "execution_count": 4,
      "outputs": [
        {
          "output_type": "stream",
          "name": "stdout",
          "text": [
            "Type of m: <class 'list'>\n",
            "Type of M: <class 'torch.Tensor'>\n"
          ]
        }
      ]
    },
    {
      "cell_type": "markdown",
      "source": [
        "**From Arrays (Numpy)**\n",
        "\n",
        "What is numpy, who knows ?\n",
        "\n",
        "Source: https://numpy.org/"
      ],
      "metadata": {
        "id": "HwmnQftGjBS_"
      }
    },
    {
      "cell_type": "code",
      "source": [
        "import numpy as np \n",
        "\n",
        "# Convert m into numpy array\n",
        "arr = np.array(m)\n",
        "print(f\"Type of arr: {type(arr)}\")\n",
        "# Transform arr into tensor\n",
        "ts_arr = torch.tensor(arr)\n",
        "print(f\"Type of ts_arr: {type(ts_arr)}\")"
      ],
      "metadata": {
        "colab": {
          "base_uri": "https://localhost:8080/"
        },
        "id": "pL5gfvUrijmF",
        "outputId": "96c3a65e-4f1a-42a1-8c5c-41d474ee5d02"
      },
      "execution_count": 5,
      "outputs": [
        {
          "output_type": "stream",
          "name": "stdout",
          "text": [
            "Type of arr: <class 'numpy.ndarray'>\n",
            "Type of ts_arr: <class 'torch.Tensor'>\n"
          ]
        }
      ]
    },
    {
      "cell_type": "markdown",
      "source": [
        "From another Tensor ?"
      ],
      "metadata": {
        "id": "jLxIsznMQcrz"
      }
    },
    {
      "cell_type": "markdown",
      "source": [
        "**Tensor Attributes**\n",
        "\n",
        "shape, dtype, device"
      ],
      "metadata": {
        "id": "_mm_5WVcPb0I"
      }
    },
    {
      "cell_type": "markdown",
      "source": [
        "<font color=\"green\"> Q1: Create a tensor from a python list and print all attributes ? </font>"
      ],
      "metadata": {
        "id": "OFzgoU7tPrx-"
      }
    },
    {
      "cell_type": "code",
      "source": [
        "# ------- Write your answer here --------"
      ],
      "metadata": {
        "id": "gqR2iI8yakLa"
      },
      "execution_count": 6,
      "outputs": []
    },
    {
      "cell_type": "markdown",
      "source": [
        "To make a tensor use of a specific device, we can use the `to(device)` method."
      ],
      "metadata": {
        "id": "LnIdjdk-RSD1"
      }
    },
    {
      "cell_type": "code",
      "source": [
        "ts_arr.device"
      ],
      "metadata": {
        "colab": {
          "base_uri": "https://localhost:8080/"
        },
        "id": "38P6eJDbRcvj",
        "outputId": "391c3b65-26ac-428d-e74d-579fe098b7b0"
      },
      "execution_count": 7,
      "outputs": [
        {
          "output_type": "execute_result",
          "data": {
            "text/plain": [
              "device(type='cpu')"
            ]
          },
          "metadata": {},
          "execution_count": 7
        }
      ]
    },
    {
      "cell_type": "code",
      "source": [
        "ts_arr = ts_arr.to(device)\n",
        "print(f\"Tensor ts_arr is stored on: {ts_arr.device}\")"
      ],
      "metadata": {
        "colab": {
          "base_uri": "https://localhost:8080/"
        },
        "id": "0MWrZpioRjI_",
        "outputId": "4102e59c-1e8e-4f81-eb2c-95edabc2beba"
      },
      "execution_count": 8,
      "outputs": [
        {
          "output_type": "stream",
          "name": "stdout",
          "text": [
            "Tensor ts_arr is stored on: cuda:0\n"
          ]
        }
      ]
    },
    {
      "cell_type": "markdown",
      "source": [
        "**Operations with Tensors**\n",
        "\n",
        "Indexing, Slicing, Sampling, math Operations, etc More [here](https://pytorch.org/docs/stable/torch.html)"
      ],
      "metadata": {
        "id": "6CTg-FTnQeJ8"
      }
    },
    {
      "cell_type": "markdown",
      "source": [
        "Indexing"
      ],
      "metadata": {
        "id": "jCByfTNRVUFJ"
      }
    },
    {
      "cell_type": "code",
      "source": [
        "# Indexing\n",
        "\n",
        "ts_rand = torch.rand(4,4)\n",
        "print(f\"Tensor rand = {ts_rand}\")\n",
        "print()\n",
        "# All rows of column 1\n",
        "print(f\"ts_rand[:,1] = {ts_rand[:,1]}\")"
      ],
      "metadata": {
        "colab": {
          "base_uri": "https://localhost:8080/"
        },
        "id": "b1okPsY3RBLX",
        "outputId": "e5e4b79c-83a3-4a4f-e084-91b411bf2376"
      },
      "execution_count": 9,
      "outputs": [
        {
          "output_type": "stream",
          "name": "stdout",
          "text": [
            "Tensor rand = tensor([[0.9202, 0.2052, 0.3116, 0.0802],\n",
            "        [0.3180, 0.7750, 0.1885, 0.1199],\n",
            "        [0.0266, 0.1553, 0.7521, 0.8477],\n",
            "        [0.8316, 0.3009, 0.0238, 0.5542]])\n",
            "\n",
            "ts_rand[:,1] = tensor([0.2052, 0.7750, 0.1553, 0.3009])\n"
          ]
        }
      ]
    },
    {
      "cell_type": "markdown",
      "source": [
        "Concatenate or join"
      ],
      "metadata": {
        "id": "naE9jY2UVW9y"
      }
    },
    {
      "cell_type": "code",
      "source": [
        "# Concatenate or join\n",
        "# Along the column\n",
        "ts_ccat = torch.cat([ts_rand, torch.ones(4,4)], dim=1)\n",
        "print(ts_ccat)"
      ],
      "metadata": {
        "colab": {
          "base_uri": "https://localhost:8080/"
        },
        "id": "JeYLCbwYTG2e",
        "outputId": "a791fc5d-15bc-4c07-e9d7-322a4ed72657"
      },
      "execution_count": 10,
      "outputs": [
        {
          "output_type": "stream",
          "name": "stdout",
          "text": [
            "tensor([[0.9202, 0.2052, 0.3116, 0.0802, 1.0000, 1.0000, 1.0000, 1.0000],\n",
            "        [0.3180, 0.7750, 0.1885, 0.1199, 1.0000, 1.0000, 1.0000, 1.0000],\n",
            "        [0.0266, 0.1553, 0.7521, 0.8477, 1.0000, 1.0000, 1.0000, 1.0000],\n",
            "        [0.8316, 0.3009, 0.0238, 0.5542, 1.0000, 1.0000, 1.0000, 1.0000]])\n"
          ]
        }
      ]
    },
    {
      "cell_type": "markdown",
      "source": [
        " Math operations"
      ],
      "metadata": {
        "id": "6JzdmJ_uVZxP"
      }
    },
    {
      "cell_type": "markdown",
      "source": [
        "<font color='green'> Q2: Using multiplication operators with tensors ? </font>"
      ],
      "metadata": {
        "id": "Q47R7otgVIQB"
      }
    },
    {
      "cell_type": "code",
      "source": [
        "ts_res = ts_rand * ts_ccat\n",
        "# What going on ?"
      ],
      "metadata": {
        "colab": {
          "base_uri": "https://localhost:8080/",
          "height": 183
        },
        "id": "49d5wKutUpvP",
        "outputId": "74c2994a-40b7-4333-a2e2-2b4c41d09925"
      },
      "execution_count": 12,
      "outputs": [
        {
          "output_type": "error",
          "ename": "RuntimeError",
          "evalue": "ignored",
          "traceback": [
            "\u001b[0;31m---------------------------------------------------------------------------\u001b[0m",
            "\u001b[0;31mRuntimeError\u001b[0m                              Traceback (most recent call last)",
            "\u001b[0;32m<ipython-input-12-e4db21c50a43>\u001b[0m in \u001b[0;36m<module>\u001b[0;34m\u001b[0m\n\u001b[0;32m----> 1\u001b[0;31m \u001b[0mts_res\u001b[0m \u001b[0;34m=\u001b[0m \u001b[0mts_rand\u001b[0m \u001b[0;34m*\u001b[0m \u001b[0mts_ccat\u001b[0m\u001b[0;34m\u001b[0m\u001b[0;34m\u001b[0m\u001b[0m\n\u001b[0m\u001b[1;32m      2\u001b[0m \u001b[0;31m# What going on ?\u001b[0m\u001b[0;34m\u001b[0m\u001b[0;34m\u001b[0m\u001b[0;34m\u001b[0m\u001b[0m\n",
            "\u001b[0;31mRuntimeError\u001b[0m: The size of tensor a (4) must match the size of tensor b (8) at non-singleton dimension 1"
          ]
        }
      ]
    },
    {
      "cell_type": "code",
      "source": [
        "ts_rand.matmul(ts_ccat)"
      ],
      "metadata": {
        "colab": {
          "base_uri": "https://localhost:8080/"
        },
        "id": "qQQZfxvzUxo-",
        "outputId": "454068d3-b2be-4e23-f53a-31c54b14744c"
      },
      "execution_count": 13,
      "outputs": [
        {
          "output_type": "execute_result",
          "data": {
            "text/plain": [
              "tensor([[0.9870, 0.4203, 0.5617, 0.4069, 1.5172, 1.5172, 1.5172, 1.5172],\n",
              "        [0.6438, 0.7312, 0.3897, 0.3446, 1.4014, 1.4014, 1.4014, 1.4014],\n",
              "        [0.7989, 0.4977, 0.6234, 1.1282, 1.7818, 1.7818, 1.7818, 1.7818],\n",
              "        [1.3225, 0.5742, 0.3469, 0.4300, 1.7104, 1.7104, 1.7104, 1.7104]])"
            ]
          },
          "metadata": {},
          "execution_count": 13
        }
      ]
    },
    {
      "cell_type": "code",
      "source": [
        "ts_x1 = torch.tensor([[1,2,3]])\n",
        "# Addition\n",
        "ts_x1 = ts_x1 + 1\n",
        "print(f\"ts_x1 = {ts_x1}\")\n",
        "# Substrcact\n",
        "ts_x1 = ts_x1 - 2\n",
        "print(f\"ts_x1 = {ts_x1}\")\n",
        "# Division\n",
        "ts_x1 = ts_x1 / 2\n",
        "print(f\"ts_x1 = {ts_x1}\")"
      ],
      "metadata": {
        "colab": {
          "base_uri": "https://localhost:8080/"
        },
        "id": "uo8tvDxXHmfw",
        "outputId": "1bc92c1b-288b-4930-e058-606934977fe7"
      },
      "execution_count": 17,
      "outputs": [
        {
          "output_type": "stream",
          "name": "stdout",
          "text": [
            "ts_x1 = tensor([[2, 3, 4]])\n",
            "ts_x1 = tensor([[0, 1, 2]])\n",
            "ts_x1 = tensor([[0.0000, 0.5000, 1.0000]])\n"
          ]
        }
      ]
    },
    {
      "cell_type": "markdown",
      "source": [
        "Inplace operations"
      ],
      "metadata": {
        "id": "klw8p-muaGK0"
      }
    },
    {
      "cell_type": "code",
      "source": [
        "ts_ccat.add_(5)"
      ],
      "metadata": {
        "id": "-rtRdaleZ8UF"
      },
      "execution_count": null,
      "outputs": []
    },
    {
      "cell_type": "markdown",
      "source": [
        "Finding the max and min in tensors"
      ],
      "metadata": {
        "id": "26gt0sm1IRN3"
      }
    },
    {
      "cell_type": "code",
      "source": [
        "# Create a tensor\n",
        "ts_range = torch.arange(0, 100, 10)\n",
        "ts_range"
      ],
      "metadata": {
        "colab": {
          "base_uri": "https://localhost:8080/"
        },
        "id": "YVSbCWw9IVLr",
        "outputId": "bd5595c3-2731-4807-f3d1-8bdc5cc6b7b9"
      },
      "execution_count": 18,
      "outputs": [
        {
          "output_type": "execute_result",
          "data": {
            "text/plain": [
              "tensor([ 0, 10, 20, 30, 40, 50, 60, 70, 80, 90])"
            ]
          },
          "metadata": {},
          "execution_count": 18
        }
      ]
    },
    {
      "cell_type": "code",
      "source": [
        "print(f\"Minimum: {ts_range.min()}\")\n",
        "print(f\"Maximum: {ts_range.max()}\")\n",
        "print(f\"Mean: {ts_range.type(torch.float32).mean()}\") # won't work without float datatype\n",
        "print(f\"Sum: {ts_range.sum()}\")\n",
        "\n",
        "# or\n",
        "torch.max(ts_range), torch.min(ts_range), torch.mean(ts_range.type(torch.float32)), torch.sum(ts_range)"
      ],
      "metadata": {
        "colab": {
          "base_uri": "https://localhost:8080/"
        },
        "id": "gpvpgtMkIfnj",
        "outputId": "96067f90-71c4-44ff-ede3-45c76cd3a75a"
      },
      "execution_count": 22,
      "outputs": [
        {
          "output_type": "stream",
          "name": "stdout",
          "text": [
            "Minimum: 0\n",
            "Maximum: 90\n",
            "Mean: 45.0\n",
            "Sum: 450\n"
          ]
        },
        {
          "output_type": "execute_result",
          "data": {
            "text/plain": [
              "(tensor(90), tensor(0), tensor(45.), tensor(450))"
            ]
          },
          "metadata": {},
          "execution_count": 22
        }
      ]
    },
    {
      "cell_type": "markdown",
      "source": [
        "Positional min/max"
      ],
      "metadata": {
        "id": "SGyYf1E2I2K1"
      }
    },
    {
      "cell_type": "code",
      "source": [
        "# Returns index of max and min values\n",
        "print(f\"Index of the max value: {ts_range.argmax()}\")\n",
        "print(f\"Index of the min value: {ts_range.argmin()}\")\n"
      ],
      "metadata": {
        "colab": {
          "base_uri": "https://localhost:8080/"
        },
        "id": "8W-y8Z95I4Ny",
        "outputId": "866f0fad-2dcd-4af1-b4ce-1c6a48557207"
      },
      "execution_count": 24,
      "outputs": [
        {
          "output_type": "stream",
          "name": "stdout",
          "text": [
            "Index of the max value: 9\n",
            "Index of the min value: 0\n"
          ]
        }
      ]
    },
    {
      "cell_type": "markdown",
      "source": [
        "Tensors to Numpy ndrrays"
      ],
      "metadata": {
        "id": "DYHZpoHzgSMS"
      }
    },
    {
      "cell_type": "code",
      "source": [
        "ts_x = torch.tensor([1,1,1])\n",
        "arr_x = ts_x.numpy()\n",
        "ts_x.add_(2)\n",
        "print(\"Check if the value of the array has changed as well\")\n",
        "print(ts_x.numpy() == arr_x)"
      ],
      "metadata": {
        "id": "48gK5pMOaP-u"
      },
      "execution_count": null,
      "outputs": []
    },
    {
      "cell_type": "markdown",
      "source": [
        "Casting Tensor Types"
      ],
      "metadata": {
        "id": "EWbDAdApJEiH"
      }
    },
    {
      "cell_type": "code",
      "source": [
        "ts_range.dtype\n",
        "# Change type to float32\n",
        "ts_range = ts_range.type(torch.float32)\n",
        "print(f\"New tensor type: {ts_range.dtype}\")"
      ],
      "metadata": {
        "colab": {
          "base_uri": "https://localhost:8080/"
        },
        "id": "ZZ3dJkOwJDw6",
        "outputId": "4c1c8c7b-d870-4bc3-bd16-75390ec24f74"
      },
      "execution_count": 29,
      "outputs": [
        {
          "output_type": "stream",
          "name": "stdout",
          "text": [
            "New tensor type: torch.float32\n"
          ]
        }
      ]
    },
    {
      "cell_type": "markdown",
      "source": [
        "Reshape Tensors"
      ],
      "metadata": {
        "id": "jnJtHsEIJueb"
      }
    },
    {
      "cell_type": "code",
      "source": [
        "torch.arange(1, 10).reshape(1, 3, 3)"
      ],
      "metadata": {
        "colab": {
          "base_uri": "https://localhost:8080/"
        },
        "id": "tvjmdwkVJ4Ui",
        "outputId": "02924eee-d213-4a11-c065-fc79de6dc39f"
      },
      "execution_count": 34,
      "outputs": [
        {
          "output_type": "execute_result",
          "data": {
            "text/plain": [
              "tensor([[[1, 2, 3],\n",
              "         [4, 5, 6],\n",
              "         [7, 8, 9]]])"
            ]
          },
          "metadata": {},
          "execution_count": 34
        }
      ]
    },
    {
      "cell_type": "markdown",
      "source": [
        "<font color='green'> Q3: Hum whats going on if we try to reshape ts_range? </font>"
      ],
      "metadata": {
        "id": "GD1Z72MqKS5y"
      }
    },
    {
      "cell_type": "code",
      "source": [
        "# --------------- Find out ----------------"
      ],
      "metadata": {
        "id": "9F0p8rJ-KaAa"
      },
      "execution_count": 35,
      "outputs": []
    },
    {
      "cell_type": "markdown",
      "source": [
        "Squeeze and Unsqueeze\n",
        "\n",
        "* Squeeze: Remove one dimension to a tensor\n",
        "* Unsqueeze: Add a new dimension to a tensor\n"
      ],
      "metadata": {
        "id": "v9AAQTzqWFDP"
      }
    },
    {
      "cell_type": "code",
      "source": [
        "ts_sq = torch.tensor([[[2],[1]],[[3],[1]]])\n",
        "print(ts_sq.shape)\n",
        "ts_sq = ts_sq.squeeze(dim=2)\n",
        "print(ts_sq)\n",
        "print(ts_sq.shape)"
      ],
      "metadata": {
        "colab": {
          "base_uri": "https://localhost:8080/"
        },
        "id": "7EinZyzbWEp9",
        "outputId": "45d73ebd-a5be-47dc-bf1a-08a264cead72"
      },
      "execution_count": 84,
      "outputs": [
        {
          "output_type": "stream",
          "name": "stdout",
          "text": [
            "torch.Size([2, 2, 1])\n",
            "tensor([[2, 1],\n",
            "        [3, 1]])\n",
            "torch.Size([2, 2])\n"
          ]
        }
      ]
    },
    {
      "cell_type": "code",
      "source": [
        "# Unsqueeze\n",
        "ts_sq = ts_sq.unsqueeze(dim=2)\n",
        "print(ts_sq)\n",
        "print(ts_sq.shape)"
      ],
      "metadata": {
        "colab": {
          "base_uri": "https://localhost:8080/"
        },
        "id": "Ee-wXm2xW8Wd",
        "outputId": "25647e0a-c7c9-41bb-c7c9-72b3f66cd71c"
      },
      "execution_count": 86,
      "outputs": [
        {
          "output_type": "stream",
          "name": "stdout",
          "text": [
            "tensor([[[[2]],\n",
            "\n",
            "         [[1]]],\n",
            "\n",
            "\n",
            "        [[[3]],\n",
            "\n",
            "         [[1]]]])\n",
            "torch.Size([2, 2, 1, 1])\n"
          ]
        }
      ]
    },
    {
      "cell_type": "markdown",
      "source": [
        "<font color='light_blue'> In deep learning and with Pytorch, inputs and outputs as well as weights and biases are represented with tensors </font>"
      ],
      "metadata": {
        "id": "S2BxIvFdb4T6"
      }
    },
    {
      "cell_type": "markdown",
      "source": [
        "## 4- Designing Neural Network with Pytorch\n",
        "\n",
        "- import nn from torch\n",
        "- inherite nn.Module class\n",
        "- initialize layers under the`__init__` method\n",
        "- Add a ```forward``` method and specify how the data will pass throught the network.\n"
      ],
      "metadata": {
        "id": "BC3P1oulLFtk"
      }
    },
    {
      "cell_type": "markdown",
      "source": [
        "**Layers**\n",
        "\n",
        "Layers are defined in the `nn` module of pytorch, named based on their activation function.\n"
      ],
      "metadata": {
        "id": "dUIeEWRmOELp"
      }
    },
    {
      "cell_type": "code",
      "source": [
        "l1 = nn.Linear(1,1)\n",
        "l2 = nn.ReLU(l1)\n",
        "l3 = nn.Sigmoid()\n",
        "l3 = nn.Conv2d(1, 28, 3)\n",
        "# Every function has its required parameters, always refers to the docs\n",
        "# For convolution find more on: https://pytorch.org/docs/stable/generated/torch.nn.Conv2d.html\n"
      ],
      "metadata": {
        "id": "4AWUKPlbOrUz"
      },
      "execution_count": 50,
      "outputs": []
    },
    {
      "cell_type": "code",
      "source": [
        "from torch import nn\n",
        "\n",
        "class NeuralNet(nn.Module):\n",
        "  def __init__(self):\n",
        "    # The super() function is used to give access to methods and properties of a parent or sibling class\n",
        "    super().__init__()\n",
        "    self.layer1 = nn.Linear(in_features=2, out_features=2)\n",
        "  \n",
        "  def forward(self, X):\n",
        "    # Here we pass the inputs through layer1\n",
        "    logits = self.layer1(X)\n",
        "    return logits\n",
        "\n",
        "model = NeuralNet()\n",
        "print(model)"
      ],
      "metadata": {
        "colab": {
          "base_uri": "https://localhost:8080/"
        },
        "id": "2qOfm2jlLuW2",
        "outputId": "b072f670-8b0a-4984-e658-71f637743435"
      },
      "execution_count": 36,
      "outputs": [
        {
          "output_type": "stream",
          "name": "stdout",
          "text": [
            "NeuralNet(\n",
            "  (layer1): Linear(in_features=2, out_features=2, bias=True)\n",
            ")\n"
          ]
        }
      ]
    },
    {
      "cell_type": "markdown",
      "source": [
        "## 5- Learning Algorithm\n",
        "\n",
        "Training a Neural Network happens in two steps:\n",
        "\n",
        "*   **Forward Propagation**: It runs the input data through each layer and each activation of the network.\n",
        "*   **Backward Propagation**: The NN adjusts its parameters proportionate to the error in its guess. Traversing backwards from the output, *collecting the derivatives of the error with respect to the parameters of the functions*, and optimizing the parameters using gradient descent.\n",
        "\n",
        "More details [here](https://www.youtube.com/watch?v=tIeHLnjs5U8)\n",
        "\n"
      ],
      "metadata": {
        "id": "1p-pBMzNaFwk"
      }
    },
    {
      "cell_type": "markdown",
      "source": [
        "<font color='green'> Q5: Complete the following code </font>"
      ],
      "metadata": {
        "id": "7detYrRUMoPn"
      }
    },
    {
      "cell_type": "code",
      "source": [
        "# First we need fully working Neural network\n",
        "\n",
        "# --------- Import the necessary package here -----------\n",
        "\n",
        "\n",
        "class NN(nn.Module):\n",
        "  def __init__(self):\n",
        "    super().__init__()\n",
        "    self.layer_stack = nn.Sequential(\n",
        "        # ----- Add two Linear layers here ---------\n",
        "        # First layers: in = 2, out = 2 \n",
        "        # Second layer: in = 2, out = 1\n",
        "    )\n",
        "  \n",
        "  def forward(self, X):\n",
        "    # --------- Add your code here ----------\n",
        "    outputs = ...\n",
        "    return outputs\n",
        "\n",
        "# Uncomment when complete\n",
        "\n",
        "model = NN().to(device)\n",
        "print(model)\n"
      ],
      "metadata": {
        "id": "0BkQ3MX6g4xN",
        "colab": {
          "base_uri": "https://localhost:8080/"
        },
        "outputId": "1ca39800-5c80-425a-ba55-d1cc3ba4d0eb"
      },
      "execution_count": 60,
      "outputs": [
        {
          "output_type": "stream",
          "name": "stdout",
          "text": [
            "NN(\n",
            "  (layer_stack): Sequential(\n",
            "    (0): Linear(in_features=2, out_features=2, bias=True)\n",
            "    (1): Linear(in_features=2, out_features=1, bias=True)\n",
            "  )\n",
            ")\n"
          ]
        }
      ]
    },
    {
      "cell_type": "code",
      "source": [
        "data = torch.tensor([[1,2],[3,4]], dtype=torch.float).to(device)\n",
        "labels = torch.tensor([[0],[1]]).to(device)"
      ],
      "metadata": {
        "id": "NifIs-FQtEgJ"
      },
      "execution_count": 61,
      "outputs": []
    },
    {
      "cell_type": "markdown",
      "source": [
        "#### **Forward Propagation**"
      ],
      "metadata": {
        "id": "YIZuzO7IfDG_"
      }
    },
    {
      "cell_type": "code",
      "source": [
        "# Forward Pass\n",
        "prediction = model(data)\n",
        "print(f\"The shape of the output tensor: {prediction.shape}\")"
      ],
      "metadata": {
        "id": "SY9pGveWfMoO",
        "outputId": "f34e7a5a-2244-481f-eebf-bf8640985466",
        "colab": {
          "base_uri": "https://localhost:8080/"
        }
      },
      "execution_count": 62,
      "outputs": [
        {
          "output_type": "stream",
          "name": "stdout",
          "text": [
            "The shape of the output tensor: torch.Size([2, 1])\n"
          ]
        }
      ]
    },
    {
      "cell_type": "markdown",
      "source": [
        "#### **Prediction Errors - Loss**\n",
        "\n",
        "In practice, most of the cases, we use predefined Loss functions\n",
        "\n",
        "- MSELoss\n",
        "- CrossEntropyLoss\n",
        "- etc https://pytorch.org/docs/stable/nn.html\n"
      ],
      "metadata": {
        "id": "EDQKn2jFfR66"
      }
    },
    {
      "cell_type": "code",
      "source": [
        "# Calculate the loss, ie the error of the model given the prediction and the corresponding correct label\n",
        "loss = (prediction - labels).sum()\n",
        "print(f\"Loss = {loss}\")"
      ],
      "metadata": {
        "id": "2USRwy7DfcpQ",
        "outputId": "797d854c-4b49-4bde-fa48-03576ecea9da",
        "colab": {
          "base_uri": "https://localhost:8080/"
        }
      },
      "execution_count": 63,
      "outputs": [
        {
          "output_type": "stream",
          "name": "stdout",
          "text": [
            "Loss = -4.153697490692139\n"
          ]
        }
      ]
    },
    {
      "cell_type": "markdown",
      "source": [
        "#### **Backward Propagation - Autograd** "
      ],
      "metadata": {
        "id": "Gp9xfYrjfgTF"
      }
    },
    {
      "cell_type": "code",
      "source": [
        "# Backpropagate the error through the network\n",
        "# By calling backward on the error tensor, the Autograd will be triggered\n",
        "# And the gradients for each model parameter are calculated and stored in the '.grad' attribute.\n",
        "# In practice, we set all gradients to zero before calculating -- optimizer.zero_grad()\n",
        "loss.backward()"
      ],
      "metadata": {
        "id": "421g2F6ufkjw"
      },
      "execution_count": 64,
      "outputs": []
    },
    {
      "cell_type": "markdown",
      "source": [
        "#### **Optimizers**\n",
        "Optimization Algorithms \n",
        "\n",
        "- Gradient Descent\n",
        "- Stochastic Gradient Descent (SGD)\n",
        "- Adam\n",
        "\n",
        "Find more on:\n",
        "https://pytorch.org/docs/stable/optim.html\n",
        "\n",
        "\n",
        "NB: Learning Rate (lr): step size at each iteration of the oprimization algorithm. (Hyperparameter) in French Pas d'apprentissage\n",
        "\n"
      ],
      "metadata": {
        "id": "CQjTZfJCf1Yp"
      }
    },
    {
      "cell_type": "code",
      "source": [
        "# Optimizer: register model parameters\n",
        "optimizer = torch.optim.SGD(model.parameters(), lr=1e-3)\n",
        "print(\"--------------------PARAMETERS----------------------\")\n",
        "print(f\"Parameters before update: {list(model.parameters())}\")\n",
        "# Then finally initiate the gradient descent algorithm ( here the SGD) and updates all models parameters\n",
        "# Set all gradients to zero before calculation\n",
        "optimizer.zero_grad()\n",
        "optimizer.step()\n",
        "print(\"----------------------------------------------------\")\n",
        "print(f\"Parameters after update: {list(model.parameters())}\")"
      ],
      "metadata": {
        "id": "18QLtIligEeq",
        "outputId": "4de3637f-3dda-4ee1-807c-5936154c18e4",
        "colab": {
          "base_uri": "https://localhost:8080/"
        }
      },
      "execution_count": 65,
      "outputs": [
        {
          "output_type": "stream",
          "name": "stdout",
          "text": [
            "--------------------PARAMETERS----------------------\n",
            "Parameters before update: [Parameter containing:\n",
            "tensor([[ 0.4559,  0.2453],\n",
            "        [-0.2297,  0.6165]], device='cuda:0', requires_grad=True), Parameter containing:\n",
            "tensor([0.4971, 0.4653], device='cuda:0', requires_grad=True), Parameter containing:\n",
            "tensor([[-0.0477, -0.4240]], device='cuda:0', requires_grad=True), Parameter containing:\n",
            "tensor([-0.6880], device='cuda:0', requires_grad=True)]\n",
            "----------------------------------------------------\n",
            "Parameters after update: [Parameter containing:\n",
            "tensor([[ 0.4559,  0.2453],\n",
            "        [-0.2297,  0.6165]], device='cuda:0', requires_grad=True), Parameter containing:\n",
            "tensor([0.4971, 0.4653], device='cuda:0', requires_grad=True), Parameter containing:\n",
            "tensor([[-0.0477, -0.4240]], device='cuda:0', requires_grad=True), Parameter containing:\n",
            "tensor([-0.6880], device='cuda:0', requires_grad=True)]\n"
          ]
        }
      ]
    },
    {
      "cell_type": "markdown",
      "source": [
        "#### **Frozen Parameters**\n",
        "\n",
        "In some cases, we don't need to update all parameters of the model, this is called **finetuning** in deep learning. To do so, we need to set the gradients to false for any parameters (Tensors) that are not required updates."
      ],
      "metadata": {
        "id": "K9DC_K7hymDE"
      }
    },
    {
      "cell_type": "code",
      "source": [
        "for name, param in model.named_parameters():\n",
        "  print(name)\n",
        "  param.requires_grad_(False)"
      ],
      "metadata": {
        "colab": {
          "base_uri": "https://localhost:8080/"
        },
        "id": "tDNSSIESd67e",
        "outputId": "915f8d87-8d35-4978-891b-f5f36405ddc6"
      },
      "execution_count": 66,
      "outputs": [
        {
          "output_type": "stream",
          "name": "stdout",
          "text": [
            "layer_stack.0.weight\n",
            "layer_stack.0.bias\n",
            "layer_stack.1.weight\n",
            "layer_stack.1.bias\n"
          ]
        }
      ]
    },
    {
      "cell_type": "code",
      "source": [
        "model.get_parameter(\"layer_stack.0.weight\")"
      ],
      "metadata": {
        "colab": {
          "base_uri": "https://localhost:8080/"
        },
        "id": "EFu2J7oYfr82",
        "outputId": "9f87dbb8-aa5e-466f-ade1-4946c36ca85c"
      },
      "execution_count": 68,
      "outputs": [
        {
          "output_type": "execute_result",
          "data": {
            "text/plain": [
              "Parameter containing:\n",
              "tensor([[ 0.4559,  0.2453],\n",
              "        [-0.2297,  0.6165]], device='cuda:0')"
            ]
          },
          "metadata": {},
          "execution_count": 68
        }
      ]
    },
    {
      "cell_type": "markdown",
      "source": [
        "## 6- Deep Learning Project Workflow ( With Pytorch )\n",
        "\n",
        "- Get the data\n",
        "- Split the data into train and test\n",
        "- Build a model\n",
        "- Train the model the fit the data\n",
        "- Evaluate the model\n",
        "- Save and reload\n",
        "- Make predictions\n",
        "\n",
        "\n",
        "In this section, we are going to build a simple linear regression model. \n",
        "\n",
        "y = ax + b"
      ],
      "metadata": {
        "id": "TjxPH3WBScQt"
      }
    },
    {
      "cell_type": "code",
      "source": [
        "# Create synthetic data\n",
        "\n",
        "noise = torch.rand(1, dtype=float)\n",
        "a = 0.7\n",
        "b = 0.3\n",
        "\n",
        "start = 0\n",
        "end = 1\n",
        "step = 0.03\n",
        "noise =  torch.rand(34).uniform_(0, 0.2)\n",
        "print(noise.shape)\n",
        "X = torch.arange(start, end, step)\n",
        "X.add_(noise)\n",
        "X.unsqueeze_(dim=1)\n",
        "y = a*X + b \n",
        "\n",
        "print(f\"X.shape = {X.shape}\")\n",
        "print(f\"y.shape= {y.shape}\")"
      ],
      "metadata": {
        "id": "GvQyFnH5vYzf",
        "colab": {
          "base_uri": "https://localhost:8080/"
        },
        "outputId": "2da7727a-3710-484f-c2c5-fab0fcfe6704"
      },
      "execution_count": 132,
      "outputs": [
        {
          "output_type": "stream",
          "name": "stdout",
          "text": [
            "torch.Size([34])\n",
            "X.shape = torch.Size([34, 1])\n",
            "y.shape= torch.Size([34, 1])\n"
          ]
        }
      ]
    },
    {
      "cell_type": "markdown",
      "source": [
        "**Split the data** into train and test"
      ],
      "metadata": {
        "id": "5u3bXZ4YYZkP"
      }
    },
    {
      "cell_type": "code",
      "source": [
        "# 80% of data used for training set, 20% for testing \n",
        "train_split = int(0.8 * len(X)) \n",
        "X_train, y_train = X[:train_split], y[:train_split]\n",
        "X_test, y_test = X[train_split:], y[train_split:]\n",
        "\n",
        "len(X_train), len(y_train), len(X_test), len(y_test)"
      ],
      "metadata": {
        "colab": {
          "base_uri": "https://localhost:8080/"
        },
        "id": "QKzBXpR3YjZT",
        "outputId": "441174b3-5f30-407c-c234-73eec6167680"
      },
      "execution_count": 133,
      "outputs": [
        {
          "output_type": "execute_result",
          "data": {
            "text/plain": [
              "(27, 27, 7, 7)"
            ]
          },
          "metadata": {},
          "execution_count": 133
        }
      ]
    },
    {
      "cell_type": "code",
      "source": [
        "# Visualize the data\n",
        "import matplotlib.pyplot as plt\n",
        "\n",
        "def plot_data(pred=None):\n",
        "  if pred is not None:\n",
        "     plt.scatter(X_test, pred, c=\"r\", s=4, label=\"Predictions\")\n",
        "  plt.scatter(X_train, y_train, c=\"b\", s=4, label=\"Training data\")\n",
        "  plt.scatter(X_test, y_test, c=\"g\", s=4, label=\"Test data\")\n",
        "\n",
        "  plt.legend()\n",
        "\n",
        "plot_data()"
      ],
      "metadata": {
        "colab": {
          "base_uri": "https://localhost:8080/",
          "height": 265
        },
        "id": "q3fSTyKHVRAD",
        "outputId": "e5a3ecb0-fd16-4cdf-c0ce-6fa5fb8b03ca"
      },
      "execution_count": 152,
      "outputs": [
        {
          "output_type": "display_data",
          "data": {
            "text/plain": [
              "<Figure size 432x288 with 1 Axes>"
            ],
            "image/png": "[encoded data removed]"
          },
          "metadata": {
            "needs_background": "light"
          }
        }
      ]
    },
    {
      "cell_type": "markdown",
      "source": [
        "Build a Model"
      ],
      "metadata": {
        "id": "8sIQcH9Xbzo1"
      }
    },
    {
      "cell_type": "code",
      "source": [
        "\n",
        "class LinearRegressionModel(nn.Module): \n",
        "  def __init__(self):\n",
        "    super().__init__() \n",
        "    self.layer = nn.Linear(1,1)\n",
        "  def forward(self, x):\n",
        "    return self.layer(x)"
      ],
      "metadata": {
        "id": "RKrgPqeMVUN7"
      },
      "execution_count": 156,
      "outputs": []
    },
    {
      "cell_type": "code",
      "source": [
        "model = LinearRegressionModel()"
      ],
      "metadata": {
        "id": "NiNu6S4FVWuH"
      },
      "execution_count": 157,
      "outputs": []
    },
    {
      "cell_type": "code",
      "source": [
        "# Make predictions with model\n",
        "with torch.inference_mode():\n",
        "    pred = model(X_test)"
      ],
      "metadata": {
        "id": "tt1CoApOdbUc"
      },
      "execution_count": 158,
      "outputs": []
    },
    {
      "cell_type": "code",
      "source": [
        "plot_data(pred)"
      ],
      "metadata": {
        "colab": {
          "base_uri": "https://localhost:8080/",
          "height": 265
        },
        "id": "sjxXxEI6d9h7",
        "outputId": "eeb2c10b-8850-420d-cde0-f0bac86ca891"
      },
      "execution_count": 155,
      "outputs": [
        {
          "output_type": "display_data",
          "data": {
            "text/plain": [
              "<Figure size 432x288 with 1 Axes>"
            ],
            "image/png": "[encoded data removed]"
          },
          "metadata": {
            "needs_background": "light"
          }
        }
      ]
    },
    {
      "cell_type": "markdown",
      "source": [
        "Train the model\n",
        "\n",
        "- Define a loss function"
      ],
      "metadata": {
        "id": "bdKNv_FRergr"
      }
    },
    {
      "cell_type": "code",
      "source": [
        "loss_fn = nn.L1Loss()\n",
        "# Define the optimizer\n",
        "optmizer = torch.optim.SGD(params=model.parameters(), lr=0.01)"
      ],
      "metadata": {
        "id": "UYNgavVud1je"
      },
      "execution_count": 164,
      "outputs": []
    },
    {
      "cell_type": "code",
      "source": [
        "torch.manual_seed(42)\n",
        "\n",
        "# Set the number of epochs (how many times the model will pass over the training data)\n",
        "epochs = 1000\n",
        "\n",
        "# Create empty loss lists to track values\n",
        "train_loss_values = []\n",
        "test_loss_values = []\n",
        "epoch_count = []\n",
        "\n",
        "for epoch in range(epochs):\n",
        "    ### Training\n",
        "\n",
        "    # Put model in training mode (this is the default state of a model)\n",
        "    model.train()\n",
        "\n",
        "    # 1. Forward pass on train data using the forward() method inside \n",
        "    y_pred = model(X_train)\n",
        "    # print(y_pred)\n",
        "\n",
        "    # 2. Calculate the loss (how different are our models predictions to the ground truth)\n",
        "    loss = loss_fn(y_pred, y_train)\n",
        "\n",
        "    # 3. Zero grad of the optimizer\n",
        "    optimizer.zero_grad()\n",
        "\n",
        "    # 4. Loss backwards\n",
        "    loss.backward()\n",
        "\n",
        "    # 5. Progress the optimizer\n",
        "    optimizer.step()\n",
        "\n",
        "    ### Testing\n",
        "\n",
        "    # Put the model in evaluation mode\n",
        "    model.eval()\n",
        "\n",
        "    with torch.inference_mode():\n",
        "      # 1. Forward pass on test data\n",
        "      test_pred = model(X_test)\n",
        "\n",
        "      # 2. Caculate loss on test data\n",
        "      test_loss = loss_fn(test_pred, y_test.type(torch.float))\n",
        "\n",
        "      # Print out what's happening\n",
        "      if epoch % 10 == 0:\n",
        "            epoch_count.append(epoch)\n",
        "            train_loss_values.append(loss.detach().numpy())\n",
        "            test_loss_values.append(test_loss.detach().numpy())\n",
        "            print(f\"Epoch: {epoch} | MAE Train Loss: {loss} | MAE Test Loss: {test_loss} \")"
      ],
      "metadata": {
        "id": "VfIwegJLjRIa",
        "outputId": "56076be4-6d22-4972-c7de-b300dd45db15",
        "colab": {
          "base_uri": "https://localhost:8080/"
        }
      },
      "execution_count": 166,
      "outputs": [
        {
          "output_type": "stream",
          "name": "stdout",
          "text": [
            "Epoch: 0 | MAE Train Loss: 1.6990548372268677 | MAE Test Loss: 2.5713589191436768 \n",
            "Epoch: 10 | MAE Train Loss: 1.6990548372268677 | MAE Test Loss: 2.5713589191436768 \n",
            "Epoch: 20 | MAE Train Loss: 1.6990548372268677 | MAE Test Loss: 2.5713589191436768 \n",
            "Epoch: 30 | MAE Train Loss: 1.6990548372268677 | MAE Test Loss: 2.5713589191436768 \n",
            "Epoch: 40 | MAE Train Loss: 1.6990548372268677 | MAE Test Loss: 2.5713589191436768 \n",
            "Epoch: 50 | MAE Train Loss: 1.6990548372268677 | MAE Test Loss: 2.5713589191436768 \n",
            "Epoch: 60 | MAE Train Loss: 1.6990548372268677 | MAE Test Loss: 2.5713589191436768 \n",
            "Epoch: 70 | MAE Train Loss: 1.6990548372268677 | MAE Test Loss: 2.5713589191436768 \n",
            "Epoch: 80 | MAE Train Loss: 1.6990548372268677 | MAE Test Loss: 2.5713589191436768 \n",
            "Epoch: 90 | MAE Train Loss: 1.6990548372268677 | MAE Test Loss: 2.5713589191436768 \n",
            "Epoch: 100 | MAE Train Loss: 1.6990548372268677 | MAE Test Loss: 2.5713589191436768 \n",
            "Epoch: 110 | MAE Train Loss: 1.6990548372268677 | MAE Test Loss: 2.5713589191436768 \n",
            "Epoch: 120 | MAE Train Loss: 1.6990548372268677 | MAE Test Loss: 2.5713589191436768 \n",
            "Epoch: 130 | MAE Train Loss: 1.6990548372268677 | MAE Test Loss: 2.5713589191436768 \n",
            "Epoch: 140 | MAE Train Loss: 1.6990548372268677 | MAE Test Loss: 2.5713589191436768 \n",
            "Epoch: 150 | MAE Train Loss: 1.6990548372268677 | MAE Test Loss: 2.5713589191436768 \n",
            "Epoch: 160 | MAE Train Loss: 1.6990548372268677 | MAE Test Loss: 2.5713589191436768 \n",
            "Epoch: 170 | MAE Train Loss: 1.6990548372268677 | MAE Test Loss: 2.5713589191436768 \n",
            "Epoch: 180 | MAE Train Loss: 1.6990548372268677 | MAE Test Loss: 2.5713589191436768 \n",
            "Epoch: 190 | MAE Train Loss: 1.6990548372268677 | MAE Test Loss: 2.5713589191436768 \n",
            "Epoch: 200 | MAE Train Loss: 1.6990548372268677 | MAE Test Loss: 2.5713589191436768 \n",
            "Epoch: 210 | MAE Train Loss: 1.6990548372268677 | MAE Test Loss: 2.5713589191436768 \n",
            "Epoch: 220 | MAE Train Loss: 1.6990548372268677 | MAE Test Loss: 2.5713589191436768 \n",
            "Epoch: 230 | MAE Train Loss: 1.6990548372268677 | MAE Test Loss: 2.5713589191436768 \n",
            "Epoch: 240 | MAE Train Loss: 1.6990548372268677 | MAE Test Loss: 2.5713589191436768 \n",
            "Epoch: 250 | MAE Train Loss: 1.6990548372268677 | MAE Test Loss: 2.5713589191436768 \n",
            "Epoch: 260 | MAE Train Loss: 1.6990548372268677 | MAE Test Loss: 2.5713589191436768 \n",
            "Epoch: 270 | MAE Train Loss: 1.6990548372268677 | MAE Test Loss: 2.5713589191436768 \n",
            "Epoch: 280 | MAE Train Loss: 1.6990548372268677 | MAE Test Loss: 2.5713589191436768 \n",
            "Epoch: 290 | MAE Train Loss: 1.6990548372268677 | MAE Test Loss: 2.5713589191436768 \n",
            "Epoch: 300 | MAE Train Loss: 1.6990548372268677 | MAE Test Loss: 2.5713589191436768 \n",
            "Epoch: 310 | MAE Train Loss: 1.6990548372268677 | MAE Test Loss: 2.5713589191436768 \n",
            "Epoch: 320 | MAE Train Loss: 1.6990548372268677 | MAE Test Loss: 2.5713589191436768 \n",
            "Epoch: 330 | MAE Train Loss: 1.6990548372268677 | MAE Test Loss: 2.5713589191436768 \n",
            "Epoch: 340 | MAE Train Loss: 1.6990548372268677 | MAE Test Loss: 2.5713589191436768 \n",
            "Epoch: 350 | MAE Train Loss: 1.6990548372268677 | MAE Test Loss: 2.5713589191436768 \n",
            "Epoch: 360 | MAE Train Loss: 1.6990548372268677 | MAE Test Loss: 2.5713589191436768 \n",
            "Epoch: 370 | MAE Train Loss: 1.6990548372268677 | MAE Test Loss: 2.5713589191436768 \n",
            "Epoch: 380 | MAE Train Loss: 1.6990548372268677 | MAE Test Loss: 2.5713589191436768 \n",
            "Epoch: 390 | MAE Train Loss: 1.6990548372268677 | MAE Test Loss: 2.5713589191436768 \n",
            "Epoch: 400 | MAE Train Loss: 1.6990548372268677 | MAE Test Loss: 2.5713589191436768 \n",
            "Epoch: 410 | MAE Train Loss: 1.6990548372268677 | MAE Test Loss: 2.5713589191436768 \n",
            "Epoch: 420 | MAE Train Loss: 1.6990548372268677 | MAE Test Loss: 2.5713589191436768 \n",
            "Epoch: 430 | MAE Train Loss: 1.6990548372268677 | MAE Test Loss: 2.5713589191436768 \n",
            "Epoch: 440 | MAE Train Loss: 1.6990548372268677 | MAE Test Loss: 2.5713589191436768 \n",
            "Epoch: 450 | MAE Train Loss: 1.6990548372268677 | MAE Test Loss: 2.5713589191436768 \n",
            "Epoch: 460 | MAE Train Loss: 1.6990548372268677 | MAE Test Loss: 2.5713589191436768 \n",
            "Epoch: 470 | MAE Train Loss: 1.6990548372268677 | MAE Test Loss: 2.5713589191436768 \n",
            "Epoch: 480 | MAE Train Loss: 1.6990548372268677 | MAE Test Loss: 2.5713589191436768 \n",
            "Epoch: 490 | MAE Train Loss: 1.6990548372268677 | MAE Test Loss: 2.5713589191436768 \n",
            "Epoch: 500 | MAE Train Loss: 1.6990548372268677 | MAE Test Loss: 2.5713589191436768 \n",
            "Epoch: 510 | MAE Train Loss: 1.6990548372268677 | MAE Test Loss: 2.5713589191436768 \n",
            "Epoch: 520 | MAE Train Loss: 1.6990548372268677 | MAE Test Loss: 2.5713589191436768 \n",
            "Epoch: 530 | MAE Train Loss: 1.6990548372268677 | MAE Test Loss: 2.5713589191436768 \n",
            "Epoch: 540 | MAE Train Loss: 1.6990548372268677 | MAE Test Loss: 2.5713589191436768 \n",
            "Epoch: 550 | MAE Train Loss: 1.6990548372268677 | MAE Test Loss: 2.5713589191436768 \n",
            "Epoch: 560 | MAE Train Loss: 1.6990548372268677 | MAE Test Loss: 2.5713589191436768 \n",
            "Epoch: 570 | MAE Train Loss: 1.6990548372268677 | MAE Test Loss: 2.5713589191436768 \n",
            "Epoch: 580 | MAE Train Loss: 1.6990548372268677 | MAE Test Loss: 2.5713589191436768 \n",
            "Epoch: 590 | MAE Train Loss: 1.6990548372268677 | MAE Test Loss: 2.5713589191436768 \n",
            "Epoch: 600 | MAE Train Loss: 1.6990548372268677 | MAE Test Loss: 2.5713589191436768 \n",
            "Epoch: 610 | MAE Train Loss: 1.6990548372268677 | MAE Test Loss: 2.5713589191436768 \n",
            "Epoch: 620 | MAE Train Loss: 1.6990548372268677 | MAE Test Loss: 2.5713589191436768 \n",
            "Epoch: 630 | MAE Train Loss: 1.6990548372268677 | MAE Test Loss: 2.5713589191436768 \n",
            "Epoch: 640 | MAE Train Loss: 1.6990548372268677 | MAE Test Loss: 2.5713589191436768 \n",
            "Epoch: 650 | MAE Train Loss: 1.6990548372268677 | MAE Test Loss: 2.5713589191436768 \n",
            "Epoch: 660 | MAE Train Loss: 1.6990548372268677 | MAE Test Loss: 2.5713589191436768 \n",
            "Epoch: 670 | MAE Train Loss: 1.6990548372268677 | MAE Test Loss: 2.5713589191436768 \n",
            "Epoch: 680 | MAE Train Loss: 1.6990548372268677 | MAE Test Loss: 2.5713589191436768 \n",
            "Epoch: 690 | MAE Train Loss: 1.6990548372268677 | MAE Test Loss: 2.5713589191436768 \n",
            "Epoch: 700 | MAE Train Loss: 1.6990548372268677 | MAE Test Loss: 2.5713589191436768 \n",
            "Epoch: 710 | MAE Train Loss: 1.6990548372268677 | MAE Test Loss: 2.5713589191436768 \n",
            "Epoch: 720 | MAE Train Loss: 1.6990548372268677 | MAE Test Loss: 2.5713589191436768 \n",
            "Epoch: 730 | MAE Train Loss: 1.6990548372268677 | MAE Test Loss: 2.5713589191436768 \n",
            "Epoch: 740 | MAE Train Loss: 1.6990548372268677 | MAE Test Loss: 2.5713589191436768 \n",
            "Epoch: 750 | MAE Train Loss: 1.6990548372268677 | MAE Test Loss: 2.5713589191436768 \n",
            "Epoch: 760 | MAE Train Loss: 1.6990548372268677 | MAE Test Loss: 2.5713589191436768 \n",
            "Epoch: 770 | MAE Train Loss: 1.6990548372268677 | MAE Test Loss: 2.5713589191436768 \n",
            "Epoch: 780 | MAE Train Loss: 1.6990548372268677 | MAE Test Loss: 2.5713589191436768 \n",
            "Epoch: 790 | MAE Train Loss: 1.6990548372268677 | MAE Test Loss: 2.5713589191436768 \n",
            "Epoch: 800 | MAE Train Loss: 1.6990548372268677 | MAE Test Loss: 2.5713589191436768 \n",
            "Epoch: 810 | MAE Train Loss: 1.6990548372268677 | MAE Test Loss: 2.5713589191436768 \n",
            "Epoch: 820 | MAE Train Loss: 1.6990548372268677 | MAE Test Loss: 2.5713589191436768 \n",
            "Epoch: 830 | MAE Train Loss: 1.6990548372268677 | MAE Test Loss: 2.5713589191436768 \n",
            "Epoch: 840 | MAE Train Loss: 1.6990548372268677 | MAE Test Loss: 2.5713589191436768 \n",
            "Epoch: 850 | MAE Train Loss: 1.6990548372268677 | MAE Test Loss: 2.5713589191436768 \n",
            "Epoch: 860 | MAE Train Loss: 1.6990548372268677 | MAE Test Loss: 2.5713589191436768 \n",
            "Epoch: 870 | MAE Train Loss: 1.6990548372268677 | MAE Test Loss: 2.5713589191436768 \n",
            "Epoch: 880 | MAE Train Loss: 1.6990548372268677 | MAE Test Loss: 2.5713589191436768 \n",
            "Epoch: 890 | MAE Train Loss: 1.6990548372268677 | MAE Test Loss: 2.5713589191436768 \n",
            "Epoch: 900 | MAE Train Loss: 1.6990548372268677 | MAE Test Loss: 2.5713589191436768 \n",
            "Epoch: 910 | MAE Train Loss: 1.6990548372268677 | MAE Test Loss: 2.5713589191436768 \n",
            "Epoch: 920 | MAE Train Loss: 1.6990548372268677 | MAE Test Loss: 2.5713589191436768 \n",
            "Epoch: 930 | MAE Train Loss: 1.6990548372268677 | MAE Test Loss: 2.5713589191436768 \n",
            "Epoch: 940 | MAE Train Loss: 1.6990548372268677 | MAE Test Loss: 2.5713589191436768 \n",
            "Epoch: 950 | MAE Train Loss: 1.6990548372268677 | MAE Test Loss: 2.5713589191436768 \n",
            "Epoch: 960 | MAE Train Loss: 1.6990548372268677 | MAE Test Loss: 2.5713589191436768 \n",
            "Epoch: 970 | MAE Train Loss: 1.6990548372268677 | MAE Test Loss: 2.5713589191436768 \n",
            "Epoch: 980 | MAE Train Loss: 1.6990548372268677 | MAE Test Loss: 2.5713589191436768 \n",
            "Epoch: 990 | MAE Train Loss: 1.6990548372268677 | MAE Test Loss: 2.5713589191436768 \n"
          ]
        }
      ]
    },
    {
      "cell_type": "code",
      "source": [
        "# Make predictions with model\n",
        "with torch.inference_mode():\n",
        "    pred = model(X_test)\n",
        "\n",
        "plot_data(pred)"
      ],
      "metadata": {
        "id": "Iu3amQ71o5XO",
        "outputId": "53ddec33-a61f-4f2c-93f3-1add62779383",
        "colab": {
          "base_uri": "https://localhost:8080/",
          "height": 265
        }
      },
      "execution_count": 163,
      "outputs": [
        {
          "output_type": "display_data",
          "data": {
            "text/plain": [
              "<Figure size 432x288 with 1 Axes>"
            ],
            "image/png": "[encoded data removed]"
          },
          "metadata": {
            "needs_background": "light"
          }
        }
      ]
    },
    {
      "cell_type": "code",
      "source": [],
      "metadata": {
        "id": "KlAhtUpDpCHH"
      },
      "execution_count": null,
      "outputs": []
    }
  ]
}