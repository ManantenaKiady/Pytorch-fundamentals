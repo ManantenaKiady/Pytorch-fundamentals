{
  "nbformat": 4,
  "nbformat_minor": 0,
  "metadata": {
    "colab": {
      "provenance": [],
      "authorship_tag": "ABX9TyM6JpTzEJ/zoT/gEyjMH+OT",
      "include_colab_link": true
    },
    "kernelspec": {
      "name": "python3",
      "display_name": "Python 3"
    },
    "language_info": {
      "name": "python"
    }
  },
  "cells": [
    {
      "cell_type": "markdown",
      "metadata": {
        "id": "view-in-github",
        "colab_type": "text"
      },
      "source": [
        "<a href=\"https://colab.research.google.com/github/ManantenaKiady/Pytorch-fundamentals/blob/master/Notebooks/pytorch_image_classification.ipynb\" target=\"_parent\"><img src=\"https://colab.research.google.com/assets/colab-badge.svg\" alt=\"Open In Colab\"/></a>"
      ]
    },
    {
      "cell_type": "markdown",
      "source": [
        "# Your Turn !!\n",
        "\n",
        "## Objective: \n",
        "\n",
        "- Train a deep learning model to classify images from CIFAR10 dataset\n",
        "https://www.cs.toronto.edu/~kriz/cifar.html"
      ],
      "metadata": {
        "id": "wzi6wDjU6Qnv"
      }
    },
    {
      "cell_type": "markdown",
      "source": [
        "## Setup"
      ],
      "metadata": {
        "id": "_xf2tLHb7QQ6"
      }
    },
    {
      "cell_type": "code",
      "source": [
        "!pip3 install torch torchvision torchaudio\n",
        "\n",
        "# Check the installed version \n",
        "import torch\n",
        "torch.__version__"
      ],
      "metadata": {
        "colab": {
          "base_uri": "https://localhost:8080/",
          "height": 244
        },
        "id": "CKNSDRyH6SUi",
        "outputId": "33776d7f-036c-46ba-db87-3e2b72893359"
      },
      "execution_count": 3,
      "outputs": [
        {
          "output_type": "stream",
          "name": "stdout",
          "text": [
            "Looking in indexes: https://pypi.org/simple, https://us-python.pkg.dev/colab-wheels/public/simple/\n",
            "Requirement already satisfied: torch in /usr/local/lib/python3.8/dist-packages (1.13.0+cu116)\n",
            "Requirement already satisfied: torchvision in /usr/local/lib/python3.8/dist-packages (0.14.0+cu116)\n",
            "Requirement already satisfied: torchaudio in /usr/local/lib/python3.8/dist-packages (0.13.0+cu116)\n",
            "Requirement already satisfied: typing-extensions in /usr/local/lib/python3.8/dist-packages (from torch) (4.4.0)\n",
            "Requirement already satisfied: requests in /usr/local/lib/python3.8/dist-packages (from torchvision) (2.23.0)\n",
            "Requirement already satisfied: numpy in /usr/local/lib/python3.8/dist-packages (from torchvision) (1.21.6)\n",
            "Requirement already satisfied: pillow!=8.3.*,>=5.3.0 in /usr/local/lib/python3.8/dist-packages (from torchvision) (7.1.2)\n",
            "Requirement already satisfied: idna<3,>=2.5 in /usr/local/lib/python3.8/dist-packages (from requests->torchvision) (2.10)\n",
            "Requirement already satisfied: chardet<4,>=3.0.2 in /usr/local/lib/python3.8/dist-packages (from requests->torchvision) (3.0.4)\n",
            "Requirement already satisfied: certifi>=2017.4.17 in /usr/local/lib/python3.8/dist-packages (from requests->torchvision) (2022.12.7)\n",
            "Requirement already satisfied: urllib3!=1.25.0,!=1.25.1,<1.26,>=1.21.1 in /usr/local/lib/python3.8/dist-packages (from requests->torchvision) (1.24.3)\n"
          ]
        },
        {
          "output_type": "execute_result",
          "data": {
            "text/plain": [
              "'1.13.0+cu116'"
            ],
            "application/vnd.google.colaboratory.intrinsic+json": {
              "type": "string"
            }
          },
          "metadata": {},
          "execution_count": 3
        }
      ]
    },
    {
      "cell_type": "markdown",
      "source": [
        "Configure"
      ],
      "metadata": {
        "id": "glFOIgHP7Bak"
      }
    },
    {
      "cell_type": "code",
      "source": [
        "# Check if GPU are available and set the device to use it\n",
        "device = \"cuda\" if torch.cuda.is_available() else \"cpu\"\n",
        "print(f\"Using {device} device\")"
      ],
      "metadata": {
        "colab": {
          "base_uri": "https://localhost:8080/"
        },
        "id": "8R95_Zyf7DAX",
        "outputId": "c70b5fb5-ee55-4846-af25-fb123ab61257"
      },
      "execution_count": 4,
      "outputs": [
        {
          "output_type": "stream",
          "name": "stdout",
          "text": [
            "Using cpu device\n"
          ]
        }
      ]
    },
    {
      "cell_type": "code",
      "source": [
        "# Create models folder\n",
        "!mkdir models"
      ],
      "metadata": {
        "id": "885E7uNuNSzk"
      },
      "execution_count": 50,
      "outputs": []
    },
    {
      "cell_type": "markdown",
      "source": [
        "## Load the dataset"
      ],
      "metadata": {
        "id": "92gm1_h57SUH"
      }
    },
    {
      "cell_type": "code",
      "source": [
        "import torch\n",
        "import torchvision\n",
        "import torchvision.transforms as transforms\n",
        "from torchvision import datasets \n",
        "\n",
        "from torch.utils.data import DataLoader\n",
        "from torchvision.transforms import ToTensor\n",
        "\n",
        "\n",
        "transform = transforms.Compose(\n",
        "    [transforms.ToTensor(),\n",
        "     transforms.Normalize((0.5, 0.5, 0.5), (0.5, 0.5, 0.5))])"
      ],
      "metadata": {
        "id": "XHl2PkrM7Gpp"
      },
      "execution_count": 11,
      "outputs": []
    },
    {
      "cell_type": "code",
      "source": [
        "# To retrieve the dataset\n",
        "training_data = datasets.CIFAR10(\n",
        "    root=\"data\",\n",
        "    train=True,\n",
        "    download=True,\n",
        "    transform=transform,\n",
        ")\n",
        "\n",
        "test_data = datasets.CIFAR10(\n",
        "    root=\"data\",\n",
        "    train=False,\n",
        "    download=True,\n",
        "    transform=transform,\n",
        ")"
      ],
      "metadata": {
        "colab": {
          "base_uri": "https://localhost:8080/"
        },
        "id": "DP4VvTFC7YcO",
        "outputId": "bb74143e-fc89-45e3-d5de-f1ab84bc482e"
      },
      "execution_count": 12,
      "outputs": [
        {
          "output_type": "stream",
          "name": "stdout",
          "text": [
            "Files already downloaded and verified\n",
            "Files already downloaded and verified\n"
          ]
        }
      ]
    },
    {
      "cell_type": "code",
      "source": [
        "classes = ('plane', 'car', 'bird', 'cat',\n",
        "           'deer', 'dog', 'frog', 'horse', 'ship', 'truck')"
      ],
      "metadata": {
        "id": "6L0F26mH77P8"
      },
      "execution_count": 13,
      "outputs": []
    },
    {
      "cell_type": "markdown",
      "source": [
        "We can pass the Dataset as an argument to DataLoader in order to:\n",
        "\n",
        "- Make the Dataset iterable\n",
        "- To supports automatic batching and sampling\n",
        "* To make it shuffleable\n",
        "- To support multiprocess data loading"
      ],
      "metadata": {
        "id": "3aBocOtZ8R0I"
      }
    },
    {
      "cell_type": "code",
      "source": [
        "import matplotlib.pyplot as plt\n",
        "import numpy as np\n",
        "\n",
        "BATCH_SIZE = 5\n",
        "\n",
        "# Create data loaders\n",
        "train_dataloader = DataLoader(training_data, batch_size=BATCH_SIZE)\n",
        "test_dataloader = DataLoader(test_data, batch_size=BATCH_SIZE)\n"
      ],
      "metadata": {
        "id": "Y88K5zao8rp0"
      },
      "execution_count": 14,
      "outputs": []
    },
    {
      "cell_type": "markdown",
      "source": [
        "**Show some images from the dataset**"
      ],
      "metadata": {
        "id": "YCtIz-1w8IkM"
      }
    },
    {
      "cell_type": "code",
      "source": [
        "# functions to show an image\n",
        "def imshow(img):\n",
        "    img = img / 2 + 0.5     # unnormalize\n",
        "    npimg = img.numpy()\n",
        "    plt.imshow(np.transpose(npimg, (1, 2, 0)))\n",
        "    plt.show()\n",
        "\n",
        "\n",
        "# get some random training images\n",
        "dataiter = iter(train_dataloader)\n",
        "images, labels = next(dataiter)\n",
        "\n",
        "# show images\n",
        "imshow(torchvision.utils.make_grid(images))\n",
        "# print labels\n",
        "print(' '.join(f'{classes[labels[j]]:5s}' for j in range(BATCH_SIZE)))"
      ],
      "metadata": {
        "colab": {
          "base_uri": "https://localhost:8080/",
          "height": 138
        },
        "id": "E8h6dslW8Faz",
        "outputId": "f0e0c238-03cf-4a1f-ca01-61334e19fa20"
      },
      "execution_count": 16,
      "outputs": [
        {
          "output_type": "display_data",
          "data": {
            "text/plain": [
              "<Figure size 432x288 with 1 Axes>"
            ],
            "image/png": "[encoded data removed]"
          },
          "metadata": {
            "needs_background": "light"
          }
        },
        {
          "output_type": "stream",
          "name": "stdout",
          "text": [
            "frog  truck truck deer  car  \n"
          ]
        }
      ]
    },
    {
      "cell_type": "markdown",
      "source": [
        "## Build a CNN (Convolutional Neural Network ) model\n",
        "\n",
        "- use Conv2d layer from nn module"
      ],
      "metadata": {
        "id": "9qjMaER5-riG"
      }
    },
    {
      "cell_type": "markdown",
      "source": [
        "<font color='green'> Q1: Import all required module and functions </font>"
      ],
      "metadata": {
        "id": "cskJ2qVR-8bX"
      }
    },
    {
      "cell_type": "code",
      "source": [
        "# ------ you code here --------"
      ],
      "metadata": {
        "id": "ZHz7d_p98OsY"
      },
      "execution_count": 18,
      "outputs": []
    },
    {
      "cell_type": "markdown",
      "source": [
        "<font color='green'> Q2: Uncomment and complete the following code </font>"
      ],
      "metadata": {
        "id": "RcVo71NX_p2W"
      }
    },
    {
      "cell_type": "code",
      "source": [
        "class Net(nn.Module):\n",
        "    def __init__(self):\n",
        "        super().__init__()\n",
        "        # in_channels, out_channels, kernel_size\n",
        "        # https://pytorch.org/docs/stable/generated/torch.nn.Conv2d.html\n",
        "        self.conv_stack = nn.Sequential(\n",
        "             nn.Conv2d(3, 6, 5),\n",
        "             nn.ReLU(),\n",
        "             nn.MaxPool2d(2, 2),\n",
        "             nn.Conv2d(6,16,5),\n",
        "             nn.ReLU(),\n",
        "             nn.MaxPool2d(2, 2)\n",
        "        )\n",
        "\n",
        "        self.flatten = nn.Flatten(1)\n",
        "        # -------------- Add three Linear Layers ----------------\n",
        "        # ------------ first: in: 16*5*5, out = 120 -------------\n",
        "        # ------------ Add ReLU function ------------------------\n",
        "        self.fc1 = nn.Sequential(\n",
        "            nn.Linear(16 * 5 * 5, 120),\n",
        "            nn.ReLU()\n",
        "        )\n",
        "        # ------------ second: in: 120, out = 84 ----------------\n",
        "        # ------------ Add ReLU function ------------------------\n",
        "        # ----------- Uncomment and complete the code -----------\n",
        "        # self.fc2 = ...\n",
        "        # ------------ third: in: 84, out = 10 ------------------\n",
        "        # --------------- Your code here ------------------------\n",
        "        # # self.fc3 = ...\n",
        "    def forward(self, x):\n",
        "        x = self.conv_stack(x)\n",
        "        x = self.flatten(x)\n",
        "        x = self.fc1(x)\n",
        "        x = self.fc2(x)\n",
        "        # ----------- Pass x through the last layer -------------\n",
        "        # ------------ YOUR CODE HERE ---------------------------\n",
        "        return x"
      ],
      "metadata": {
        "id": "9KCI8J-P_g_P"
      },
      "execution_count": 40,
      "outputs": []
    },
    {
      "cell_type": "markdown",
      "source": [
        "<font color='green'> Q3: Initialize a network (model) </font>"
      ],
      "metadata": {
        "id": "vQOX6evECaVJ"
      }
    },
    {
      "cell_type": "code",
      "source": [
        "# ----------- your code here --------------"
      ],
      "metadata": {
        "id": "l10sPBOICVKg"
      },
      "execution_count": 44,
      "outputs": []
    },
    {
      "cell_type": "markdown",
      "source": [
        "<font color='green'> Q4: Define a Loss Function and optimizer </font>\n",
        "\n",
        "- In multiclass classification we use the `CrossEntropyLoss`\n",
        "\n",
        "- Use the `sgd` optimizer with learning rate = 0.001"
      ],
      "metadata": {
        "id": "Zedg3Xf8CpEg"
      }
    },
    {
      "cell_type": "code",
      "source": [
        "# ------------ your code here --------------\n",
        "\n",
        "\n",
        "\n"
      ],
      "metadata": {
        "id": "_TRm4p3GClRb"
      },
      "execution_count": 45,
      "outputs": []
    },
    {
      "cell_type": "markdown",
      "source": [
        "### Train the network"
      ],
      "metadata": {
        "id": "hQSlAcbfDVlu"
      }
    },
    {
      "cell_type": "code",
      "source": [
        "\n",
        "def train(dataloader, model, loss_fn, optimizer):\n",
        "  size = len(dataloader.dataset)\n",
        "  model.train()\n",
        "  running_loss = 0.0\n",
        "  for batch, (X,y) in enumerate(dataloader):\n",
        "    # Set the data to load into the device\n",
        "    X,y = X.to(device), y.to(device)\n",
        "\n",
        "    # Set the gradients to all Tensor to zero\n",
        "    optimizer.zero_grad()\n",
        "\n",
        "    # Compute the prediction error\n",
        "    # -------------- UNCOMMENT AND COMPLETE -------------------\n",
        "    # pred = ....\n",
        "    # loss = loss_fn(..., ...)\n",
        "\n",
        "    # Backpropagation\n",
        "    loss.backward()\n",
        "    optimizer.step()\n",
        "\n",
        "    running_loss += loss.item()\n",
        "  \n",
        "    if batch % 2000 == 1999:\n",
        "      print(f'batch: {batch}, loss: {running_loss / 2000:.3f}')\n",
        "      running_loss = 0.0\n",
        "\n",
        "def test(dataloader, model, loss_fn):\n",
        "  size = len(dataloader.dataset)\n",
        "  num_batches = len(dataloader)\n",
        "\n",
        "  model.eval()\n",
        "  test_loss, correct = 0, 0\n",
        "  # Disable gradient calculation\n",
        "  with torch.no_grad():\n",
        "    for X, y in dataloader:\n",
        "      X, y = X.to(device), y.to(device)\n",
        "      pred = model(X)\n",
        "      test_loss += loss_fn(pred, y).item()\n",
        "      correct += (pred.argmax(1) == y).type(torch.float).sum().item()\n",
        "  \n",
        "  test_loss /= num_batches \n",
        "  correct /= size \n",
        "\n",
        "  print(f\"Test Error: \\n Accuracy: {(100*correct):>0.1f}%, Avg loss: {test_loss:>8f} \\n\")"
      ],
      "metadata": {
        "id": "VaFAEMwAISk9"
      },
      "execution_count": 46,
      "outputs": []
    },
    {
      "cell_type": "code",
      "source": [
        "# -------------------UNCOMMENT AND RUN -------------------\n",
        "# epochs = 2\n",
        "# for t in range(epochs):\n",
        "#   print(f\"Epoch {t+1}\\n ------------------------\")\n",
        "#   train(train_dataloader, net, loss_fn, optimizer)\n",
        "#   test(test_dataloader, net, loss_fn)\n",
        "\n",
        "# print(\"Done!\")"
      ],
      "metadata": {
        "colab": {
          "base_uri": "https://localhost:8080/"
        },
        "id": "x_N1W7IuIbvW",
        "outputId": "e6785496-b881-47ea-f760-b742e9c88eb3"
      },
      "execution_count": 47,
      "outputs": [
        {
          "output_type": "stream",
          "name": "stdout",
          "text": [
            "Epoch 1\n",
            " ------------------------\n",
            "[2, 10000] loss: 2.233\n",
            "[2, 10000] loss: 1.819\n",
            "[2, 10000] loss: 1.612\n",
            "[2, 10000] loss: 1.551\n",
            "[2, 10000] loss: 1.472\n",
            "Test Error: \n",
            " Accuracy: 47.9%, Avg loss: 1.440456 \n",
            "\n",
            "Epoch 2\n",
            " ------------------------\n",
            "[2, 10000] loss: 1.394\n",
            "[2, 10000] loss: 1.383\n",
            "[2, 10000] loss: 1.318\n",
            "[2, 10000] loss: 1.329\n",
            "[2, 10000] loss: 1.277\n",
            "Test Error: \n",
            " Accuracy: 56.3%, Avg loss: 1.241442 \n",
            "\n",
            "Done!\n"
          ]
        }
      ]
    },
    {
      "cell_type": "markdown",
      "source": [
        "### Save and Load the model"
      ],
      "metadata": {
        "id": "CcEGQGTvMzpd"
      }
    },
    {
      "cell_type": "code",
      "source": [
        "# Save the model under the name image_model.pt \n",
        "\n",
        "# --------------- your code here --------------------\n",
        "print(\"Saved Entire Model to image_model.pt\")\n",
        "     "
      ],
      "metadata": {
        "colab": {
          "base_uri": "https://localhost:8080/"
        },
        "id": "XlKIQMXUDbi_",
        "outputId": "45b7f85e-53da-4c3d-8717-72e86290660b"
      },
      "execution_count": 52,
      "outputs": [
        {
          "output_type": "stream",
          "name": "stdout",
          "text": [
            "Saved Entire Model to image_model.pt\n"
          ]
        }
      ]
    },
    {
      "cell_type": "markdown",
      "source": [
        "### Load and make predictions"
      ],
      "metadata": {
        "id": "g3eiwhsjNo9C"
      }
    },
    {
      "cell_type": "markdown",
      "source": [
        "Load the model\n",
        "\n",
        "<font color='green'> Q5: Load the model from models/image_model.pt</font>"
      ],
      "metadata": {
        "id": "abaeT3qgO1GZ"
      }
    },
    {
      "cell_type": "code",
      "source": [
        "# ---------------- Your code here --------------"
      ],
      "metadata": {
        "id": "4H9AKeJWO3aV"
      },
      "execution_count": 57,
      "outputs": []
    },
    {
      "cell_type": "code",
      "source": [
        "dataiter = iter(test_dataloader)\n",
        "images, labels = next(dataiter)\n",
        "\n",
        "# print images\n",
        "imshow(torchvision.utils.make_grid(images))\n",
        "print('GroundTruth: ', ' '.join(f'{classes[labels[j]]:5s}' for j in range(4)))"
      ],
      "metadata": {
        "colab": {
          "base_uri": "https://localhost:8080/",
          "height": 138
        },
        "id": "DsJQtk9sNMlM",
        "outputId": "417a7e7c-c8e0-4ae0-baae-256849f2dda1"
      },
      "execution_count": 58,
      "outputs": [
        {
          "output_type": "display_data",
          "data": {
            "text/plain": [
              "<Figure size 432x288 with 1 Axes>"
            ],
            "image/png": "[encoded data removed]"
          },
          "metadata": {
            "needs_background": "light"
          }
        },
        {
          "output_type": "stream",
          "name": "stdout",
          "text": [
            "GroundTruth:  cat   ship  ship  plane\n"
          ]
        }
      ]
    },
    {
      "cell_type": "markdown",
      "source": [
        "<font color='green'> Q6: Classify images using the model and make observation</font>"
      ],
      "metadata": {
        "id": "lXFzvGLWOt2z"
      }
    },
    {
      "cell_type": "code",
      "source": [
        "# --------------- One line of code here --------------\n",
        "# Name the result as outputs\n",
        "predicted = outputs.argmax(1)\n",
        "\n",
        "print('Predicted: ', ' '.join(f'{classes[predicted[j]]:5s}'\n",
        "                              for j in range(4)))"
      ],
      "metadata": {
        "colab": {
          "base_uri": "https://localhost:8080/"
        },
        "id": "7890bJ63Ns1X",
        "outputId": "a5d54cba-d196-4dbc-b63e-f762837cd44a"
      },
      "execution_count": 59,
      "outputs": [
        {
          "output_type": "stream",
          "name": "stdout",
          "text": [
            "Predicted:  cat   car   ship  plane\n"
          ]
        }
      ]
    },
    {
      "cell_type": "code",
      "source": [],
      "metadata": {
        "id": "jvwcXfzcN1qK"
      },
      "execution_count": null,
      "outputs": []
    }
  ]
}