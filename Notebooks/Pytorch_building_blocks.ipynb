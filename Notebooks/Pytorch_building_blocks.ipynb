{
  "nbformat": 4,
  "nbformat_minor": 0,
  "metadata": {
    "colab": {
      "provenance": [],
      "authorship_tag": "ABX9TyMxJfmL0jWGYUNaflvIXZjh",
      "include_colab_link": true
    },
    "kernelspec": {
      "name": "python3",
      "display_name": "Python 3"
    },
    "language_info": {
      "name": "python"
    },
    "accelerator": "GPU",
    "gpuClass": "standard",
    "widgets": {
      "application/vnd.jupyter.widget-state+json": {
        "208a639483c44692976716711f2fcef3": {
          "model_module": "@jupyter-widgets/controls",
          "model_name": "HBoxModel",
          "model_module_version": "1.5.0",
          "state": {
            "_dom_classes": [],
            "_model_module": "@jupyter-widgets/controls",
            "_model_module_version": "1.5.0",
            "_model_name": "HBoxModel",
            "_view_count": null,
            "_view_module": "@jupyter-widgets/controls",
            "_view_module_version": "1.5.0",
            "_view_name": "HBoxView",
            "box_style": "",
            "children": [
              "IPY_MODEL_f95d110953f04e019ec3652e73429ee3",
              "IPY_MODEL_482f20749b40451689fb44c8f023b612",
              "IPY_MODEL_f9a1d332a9f54e118bec2a7b7d06efaf"
            ],
            "layout": "IPY_MODEL_b6378eefd3f247c29d63f82332ba255f"
          }
        },
        "f95d110953f04e019ec3652e73429ee3": {
          "model_module": "@jupyter-widgets/controls",
          "model_name": "HTMLModel",
          "model_module_version": "1.5.0",
          "state": {
            "_dom_classes": [],
            "_model_module": "@jupyter-widgets/controls",
            "_model_module_version": "1.5.0",
            "_model_name": "HTMLModel",
            "_view_count": null,
            "_view_module": "@jupyter-widgets/controls",
            "_view_module_version": "1.5.0",
            "_view_name": "HTMLView",
            "description": "",
            "description_tooltip": null,
            "layout": "IPY_MODEL_5fa089c2fff1433398639ba83b228233",
            "placeholder": "​",
            "style": "IPY_MODEL_49da1ad8f5fe4ac5a5d63506e81602af",
            "value": "100%"
          }
        },
        "482f20749b40451689fb44c8f023b612": {
          "model_module": "@jupyter-widgets/controls",
          "model_name": "FloatProgressModel",
          "model_module_version": "1.5.0",
          "state": {
            "_dom_classes": [],
            "_model_module": "@jupyter-widgets/controls",
            "_model_module_version": "1.5.0",
            "_model_name": "FloatProgressModel",
            "_view_count": null,
            "_view_module": "@jupyter-widgets/controls",
            "_view_module_version": "1.5.0",
            "_view_name": "ProgressView",
            "bar_style": "success",
            "description": "",
            "description_tooltip": null,
            "layout": "IPY_MODEL_fe7cda8f26894d90a25f23f704c80a48",
            "max": 46830571,
            "min": 0,
            "orientation": "horizontal",
            "style": "IPY_MODEL_b3dfd80028c44149b86f127df2c8c79e",
            "value": 46830571
          }
        },
        "f9a1d332a9f54e118bec2a7b7d06efaf": {
          "model_module": "@jupyter-widgets/controls",
          "model_name": "HTMLModel",
          "model_module_version": "1.5.0",
          "state": {
            "_dom_classes": [],
            "_model_module": "@jupyter-widgets/controls",
            "_model_module_version": "1.5.0",
            "_model_name": "HTMLModel",
            "_view_count": null,
            "_view_module": "@jupyter-widgets/controls",
            "_view_module_version": "1.5.0",
            "_view_name": "HTMLView",
            "description": "",
            "description_tooltip": null,
            "layout": "IPY_MODEL_dcfa7b1b333f4e509db4966708521648",
            "placeholder": "​",
            "style": "IPY_MODEL_e2115f81fae243ecafa44bf9a0bdd832",
            "value": " 44.7M/44.7M [00:00&lt;00:00, 183MB/s]"
          }
        },
        "b6378eefd3f247c29d63f82332ba255f": {
          "model_module": "@jupyter-widgets/base",
          "model_name": "LayoutModel",
          "model_module_version": "1.2.0",
          "state": {
            "_model_module": "@jupyter-widgets/base",
            "_model_module_version": "1.2.0",
            "_model_name": "LayoutModel",
            "_view_count": null,
            "_view_module": "@jupyter-widgets/base",
            "_view_module_version": "1.2.0",
            "_view_name": "LayoutView",
            "align_content": null,
            "align_items": null,
            "align_self": null,
            "border": null,
            "bottom": null,
            "display": null,
            "flex": null,
            "flex_flow": null,
            "grid_area": null,
            "grid_auto_columns": null,
            "grid_auto_flow": null,
            "grid_auto_rows": null,
            "grid_column": null,
            "grid_gap": null,
            "grid_row": null,
            "grid_template_areas": null,
            "grid_template_columns": null,
            "grid_template_rows": null,
            "height": null,
            "justify_content": null,
            "justify_items": null,
            "left": null,
            "margin": null,
            "max_height": null,
            "max_width": null,
            "min_height": null,
            "min_width": null,
            "object_fit": null,
            "object_position": null,
            "order": null,
            "overflow": null,
            "overflow_x": null,
            "overflow_y": null,
            "padding": null,
            "right": null,
            "top": null,
            "visibility": null,
            "width": null
          }
        },
        "5fa089c2fff1433398639ba83b228233": {
          "model_module": "@jupyter-widgets/base",
          "model_name": "LayoutModel",
          "model_module_version": "1.2.0",
          "state": {
            "_model_module": "@jupyter-widgets/base",
            "_model_module_version": "1.2.0",
            "_model_name": "LayoutModel",
            "_view_count": null,
            "_view_module": "@jupyter-widgets/base",
            "_view_module_version": "1.2.0",
            "_view_name": "LayoutView",
            "align_content": null,
            "align_items": null,
            "align_self": null,
            "border": null,
            "bottom": null,
            "display": null,
            "flex": null,
            "flex_flow": null,
            "grid_area": null,
            "grid_auto_columns": null,
            "grid_auto_flow": null,
            "grid_auto_rows": null,
            "grid_column": null,
            "grid_gap": null,
            "grid_row": null,
            "grid_template_areas": null,
            "grid_template_columns": null,
            "grid_template_rows": null,
            "height": null,
            "justify_content": null,
            "justify_items": null,
            "left": null,
            "margin": null,
            "max_height": null,
            "max_width": null,
            "min_height": null,
            "min_width": null,
            "object_fit": null,
            "object_position": null,
            "order": null,
            "overflow": null,
            "overflow_x": null,
            "overflow_y": null,
            "padding": null,
            "right": null,
            "top": null,
            "visibility": null,
            "width": null
          }
        },
        "49da1ad8f5fe4ac5a5d63506e81602af": {
          "model_module": "@jupyter-widgets/controls",
          "model_name": "DescriptionStyleModel",
          "model_module_version": "1.5.0",
          "state": {
            "_model_module": "@jupyter-widgets/controls",
            "_model_module_version": "1.5.0",
            "_model_name": "DescriptionStyleModel",
            "_view_count": null,
            "_view_module": "@jupyter-widgets/base",
            "_view_module_version": "1.2.0",
            "_view_name": "StyleView",
            "description_width": ""
          }
        },
        "fe7cda8f26894d90a25f23f704c80a48": {
          "model_module": "@jupyter-widgets/base",
          "model_name": "LayoutModel",
          "model_module_version": "1.2.0",
          "state": {
            "_model_module": "@jupyter-widgets/base",
            "_model_module_version": "1.2.0",
            "_model_name": "LayoutModel",
            "_view_count": null,
            "_view_module": "@jupyter-widgets/base",
            "_view_module_version": "1.2.0",
            "_view_name": "LayoutView",
            "align_content": null,
            "align_items": null,
            "align_self": null,
            "border": null,
            "bottom": null,
            "display": null,
            "flex": null,
            "flex_flow": null,
            "grid_area": null,
            "grid_auto_columns": null,
            "grid_auto_flow": null,
            "grid_auto_rows": null,
            "grid_column": null,
            "grid_gap": null,
            "grid_row": null,
            "grid_template_areas": null,
            "grid_template_columns": null,
            "grid_template_rows": null,
            "height": null,
            "justify_content": null,
            "justify_items": null,
            "left": null,
            "margin": null,
            "max_height": null,
            "max_width": null,
            "min_height": null,
            "min_width": null,
            "object_fit": null,
            "object_position": null,
            "order": null,
            "overflow": null,
            "overflow_x": null,
            "overflow_y": null,
            "padding": null,
            "right": null,
            "top": null,
            "visibility": null,
            "width": null
          }
        },
        "b3dfd80028c44149b86f127df2c8c79e": {
          "model_module": "@jupyter-widgets/controls",
          "model_name": "ProgressStyleModel",
          "model_module_version": "1.5.0",
          "state": {
            "_model_module": "@jupyter-widgets/controls",
            "_model_module_version": "1.5.0",
            "_model_name": "ProgressStyleModel",
            "_view_count": null,
            "_view_module": "@jupyter-widgets/base",
            "_view_module_version": "1.2.0",
            "_view_name": "StyleView",
            "bar_color": null,
            "description_width": ""
          }
        },
        "dcfa7b1b333f4e509db4966708521648": {
          "model_module": "@jupyter-widgets/base",
          "model_name": "LayoutModel",
          "model_module_version": "1.2.0",
          "state": {
            "_model_module": "@jupyter-widgets/base",
            "_model_module_version": "1.2.0",
            "_model_name": "LayoutModel",
            "_view_count": null,
            "_view_module": "@jupyter-widgets/base",
            "_view_module_version": "1.2.0",
            "_view_name": "LayoutView",
            "align_content": null,
            "align_items": null,
            "align_self": null,
            "border": null,
            "bottom": null,
            "display": null,
            "flex": null,
            "flex_flow": null,
            "grid_area": null,
            "grid_auto_columns": null,
            "grid_auto_flow": null,
            "grid_auto_rows": null,
            "grid_column": null,
            "grid_gap": null,
            "grid_row": null,
            "grid_template_areas": null,
            "grid_template_columns": null,
            "grid_template_rows": null,
            "height": null,
            "justify_content": null,
            "justify_items": null,
            "left": null,
            "margin": null,
            "max_height": null,
            "max_width": null,
            "min_height": null,
            "min_width": null,
            "object_fit": null,
            "object_position": null,
            "order": null,
            "overflow": null,
            "overflow_x": null,
            "overflow_y": null,
            "padding": null,
            "right": null,
            "top": null,
            "visibility": null,
            "width": null
          }
        },
        "e2115f81fae243ecafa44bf9a0bdd832": {
          "model_module": "@jupyter-widgets/controls",
          "model_name": "DescriptionStyleModel",
          "model_module_version": "1.5.0",
          "state": {
            "_model_module": "@jupyter-widgets/controls",
            "_model_module_version": "1.5.0",
            "_model_name": "DescriptionStyleModel",
            "_view_count": null,
            "_view_module": "@jupyter-widgets/base",
            "_view_module_version": "1.2.0",
            "_view_name": "StyleView",
            "description_width": ""
          }
        }
      }
    }
  },
  "cells": [
    {
      "cell_type": "markdown",
      "metadata": {
        "id": "view-in-github",
        "colab_type": "text"
      },
      "source": [
        "<a href=\"https://colab.research.google.com/github/ManantenaKiady/Pytorch-fundamentals/blob/master/Notebooks/Pytorch_building_blocks.ipynb\" target=\"_parent\"><img src=\"https://colab.research.google.com/assets/colab-badge.svg\" alt=\"Open In Colab\"/></a>"
      ]
    },
    {
      "cell_type": "markdown",
      "source": [
        "# What you will learn\n",
        "\n",
        "In this notebook, we will explore the building blocks of Pytorch ( Deep Learning)\n",
        "\n",
        "- Tensors\n",
        "- Learning Algorithms (Backpropagation)\n",
        "  - Forward and Backward Pass\n",
        "  - Auto-Grad\n",
        "- Datasets\n",
        "  - DataLoader\n",
        "- Optimizers"
      ],
      "metadata": {
        "id": "qW0i2hltaTvH"
      }
    },
    {
      "cell_type": "markdown",
      "source": [
        "## Setup"
      ],
      "metadata": {
        "id": "3CMW9YBCK2fb"
      }
    },
    {
      "cell_type": "code",
      "source": [
        "!pip3 install torch torchvision torchaudio\n",
        "\n",
        "# Check the installed version \n",
        "import torch\n",
        "torch.__version__\n"
      ],
      "metadata": {
        "colab": {
          "base_uri": "https://localhost:8080/",
          "height": 277
        },
        "id": "T1e84HnmO-A7",
        "outputId": "366a2016-f750-4f16-c81a-5b57b98e5b3d"
      },
      "execution_count": 1,
      "outputs": [
        {
          "output_type": "stream",
          "name": "stdout",
          "text": [
            "Looking in indexes: https://pypi.org/simple, https://us-python.pkg.dev/colab-wheels/public/simple/\n",
            "Requirement already satisfied: torch in /usr/local/lib/python3.8/dist-packages (1.13.0+cu116)\n",
            "Requirement already satisfied: torchvision in /usr/local/lib/python3.8/dist-packages (0.14.0+cu116)\n",
            "Requirement already satisfied: torchaudio in /usr/local/lib/python3.8/dist-packages (0.13.0+cu116)\n",
            "Requirement already satisfied: typing-extensions in /usr/local/lib/python3.8/dist-packages (from torch) (4.4.0)\n",
            "Requirement already satisfied: pillow!=8.3.*,>=5.3.0 in /usr/local/lib/python3.8/dist-packages (from torchvision) (7.1.2)\n",
            "Requirement already satisfied: requests in /usr/local/lib/python3.8/dist-packages (from torchvision) (2.23.0)\n",
            "Requirement already satisfied: numpy in /usr/local/lib/python3.8/dist-packages (from torchvision) (1.21.6)\n",
            "Requirement already satisfied: certifi>=2017.4.17 in /usr/local/lib/python3.8/dist-packages (from requests->torchvision) (2022.12.7)\n",
            "Requirement already satisfied: urllib3!=1.25.0,!=1.25.1,<1.26,>=1.21.1 in /usr/local/lib/python3.8/dist-packages (from requests->torchvision) (1.24.3)\n",
            "Requirement already satisfied: chardet<4,>=3.0.2 in /usr/local/lib/python3.8/dist-packages (from requests->torchvision) (3.0.4)\n",
            "Requirement already satisfied: idna<3,>=2.5 in /usr/local/lib/python3.8/dist-packages (from requests->torchvision) (2.10)\n"
          ]
        },
        {
          "output_type": "execute_result",
          "data": {
            "text/plain": [
              "'1.13.0+cu116'"
            ],
            "application/vnd.google.colaboratory.intrinsic+json": {
              "type": "string"
            }
          },
          "metadata": {},
          "execution_count": 1
        }
      ]
    },
    {
      "cell_type": "markdown",
      "source": [
        "Configure"
      ],
      "metadata": {
        "id": "D5PucLM_PFLR"
      }
    },
    {
      "cell_type": "code",
      "source": [
        "# Check if GPU are available and set the device to use it\n",
        "device = \"cuda\" if torch.cuda.is_available() else \"cpu\"\n",
        "print(f\"Using {device} device\")"
      ],
      "metadata": {
        "colab": {
          "base_uri": "https://localhost:8080/"
        },
        "id": "1WOymlHgPEsO",
        "outputId": "dafb1808-4615-4853-8994-db337593c464"
      },
      "execution_count": 2,
      "outputs": [
        {
          "output_type": "stream",
          "name": "stdout",
          "text": [
            "Using cuda device\n"
          ]
        }
      ]
    },
    {
      "cell_type": "markdown",
      "source": [
        "## 1- Tensors\n",
        "\n",
        "Tensors are a specialized data structure that are very similar to arrays and matrices. (Multidimentional Arrays)\n",
        " \n",
        "*Source: https://pytorch.org/tutorials/*\n",
        "\n",
        "eg of tensors: \n",
        "\n",
        "`scalar: 1`\n",
        "\n",
        "`vector: [1, 2, 3]`\n",
        "\n",
        "`matrices: [[1,2,3][4,5,6]]`"
      ],
      "metadata": {
        "id": "2jzRRc2fe_0t"
      }
    },
    {
      "cell_type": "code",
      "execution_count": 3,
      "metadata": {
        "id": "tWn-SqNVaMtX"
      },
      "outputs": [],
      "source": [
        "import torch"
      ]
    },
    {
      "cell_type": "markdown",
      "source": [
        "### Initialize Tensors with `torch`"
      ],
      "metadata": {
        "id": "jOnP5mbghqp5"
      }
    },
    {
      "cell_type": "markdown",
      "source": [
        "**From Python list**"
      ],
      "metadata": {
        "id": "PFeLQaeai5h9"
      }
    },
    {
      "cell_type": "code",
      "source": [
        "# List of list in Python \n",
        "m = [[1,2,3],[4,5,6]]\n",
        "# Creating a tensor from list of list\n",
        "M = torch.tensor(m)\n",
        "\n",
        "print(f\"Type of m: {type(m)}\")\n",
        "print(f\"Type of M: {type(M)}\")"
      ],
      "metadata": {
        "colab": {
          "base_uri": "https://localhost:8080/"
        },
        "id": "NWrfT_rnhZfd",
        "outputId": "5fa4f209-1638-4526-c6e3-af319d4de771"
      },
      "execution_count": 4,
      "outputs": [
        {
          "output_type": "stream",
          "name": "stdout",
          "text": [
            "Type of m: <class 'list'>\n",
            "Type of M: <class 'torch.Tensor'>\n"
          ]
        }
      ]
    },
    {
      "cell_type": "markdown",
      "source": [
        "**From Arrays (Numpy)**\n",
        "\n",
        "What is numpy, who knows ?\n",
        "\n",
        "Source: https://numpy.org/"
      ],
      "metadata": {
        "id": "HwmnQftGjBS_"
      }
    },
    {
      "cell_type": "code",
      "source": [
        "import numpy as np \n",
        "\n",
        "# Convert m into numpy array\n",
        "arr = np.array(m)\n",
        "print(f\"Type of arr: {type(arr)}\")\n",
        "# Transform arr into tensor\n",
        "ts_arr = torch.tensor(arr)\n",
        "print(f\"Type of ts_arr: {type(ts_arr)}\")"
      ],
      "metadata": {
        "colab": {
          "base_uri": "https://localhost:8080/"
        },
        "id": "pL5gfvUrijmF",
        "outputId": "0f13c465-c207-4028-c26b-4e1256eeaea7"
      },
      "execution_count": 5,
      "outputs": [
        {
          "output_type": "stream",
          "name": "stdout",
          "text": [
            "Type of arr: <class 'numpy.ndarray'>\n",
            "Type of ts_arr: <class 'torch.Tensor'>\n"
          ]
        }
      ]
    },
    {
      "cell_type": "markdown",
      "source": [
        "From another Tensor ?"
      ],
      "metadata": {
        "id": "jLxIsznMQcrz"
      }
    },
    {
      "cell_type": "markdown",
      "source": [
        "**Tensor Attributes**\n",
        "\n",
        "shape, dtype, device"
      ],
      "metadata": {
        "id": "_mm_5WVcPb0I"
      }
    },
    {
      "cell_type": "markdown",
      "source": [
        "<font color=\"green\"> Q1: Create a tensor from a python list and print all attributes ? </font>"
      ],
      "metadata": {
        "id": "OFzgoU7tPrx-"
      }
    },
    {
      "cell_type": "code",
      "source": [
        "# ------- Write your answer here --------"
      ],
      "metadata": {
        "id": "gqR2iI8yakLa"
      },
      "execution_count": 6,
      "outputs": []
    },
    {
      "cell_type": "markdown",
      "source": [
        "To make a tensor use of a specific device, we can use the `to(device)` method."
      ],
      "metadata": {
        "id": "LnIdjdk-RSD1"
      }
    },
    {
      "cell_type": "code",
      "source": [
        "ts_arr.device"
      ],
      "metadata": {
        "colab": {
          "base_uri": "https://localhost:8080/"
        },
        "id": "38P6eJDbRcvj",
        "outputId": "37b538b1-eff6-44e3-8a1c-cfc5eef9653c"
      },
      "execution_count": 7,
      "outputs": [
        {
          "output_type": "execute_result",
          "data": {
            "text/plain": [
              "device(type='cpu')"
            ]
          },
          "metadata": {},
          "execution_count": 7
        }
      ]
    },
    {
      "cell_type": "code",
      "source": [
        "ts_arr = ts_arr.to(device)\n",
        "print(f\"Tensor ts_arr is stored on: {ts_arr.device}\")"
      ],
      "metadata": {
        "colab": {
          "base_uri": "https://localhost:8080/"
        },
        "id": "0MWrZpioRjI_",
        "outputId": "94ddde70-c543-4742-ccc6-6b384a052abb"
      },
      "execution_count": 8,
      "outputs": [
        {
          "output_type": "stream",
          "name": "stdout",
          "text": [
            "Tensor ts_arr is stored on: cuda:0\n"
          ]
        }
      ]
    },
    {
      "cell_type": "markdown",
      "source": [
        "**Operations with Tensors**\n",
        "\n",
        "Indexing, Slicing, Sampling, math Operations, etc More [here](https://pytorch.org/docs/stable/torch.html)"
      ],
      "metadata": {
        "id": "6CTg-FTnQeJ8"
      }
    },
    {
      "cell_type": "markdown",
      "source": [
        "Indexing"
      ],
      "metadata": {
        "id": "jCByfTNRVUFJ"
      }
    },
    {
      "cell_type": "code",
      "source": [
        "# Indexing\n",
        "\n",
        "ts_rand = torch.rand(4,4)\n",
        "print(f\"Tensor rand = {ts_rand}\")\n",
        "print()\n",
        "# All rows of column 1\n",
        "print(f\"ts_rand[:,1] = {ts_rand[:,1]}\")"
      ],
      "metadata": {
        "colab": {
          "base_uri": "https://localhost:8080/"
        },
        "id": "b1okPsY3RBLX",
        "outputId": "e94c1d80-02e3-46de-d409-7202b47bde60"
      },
      "execution_count": 9,
      "outputs": [
        {
          "output_type": "stream",
          "name": "stdout",
          "text": [
            "Tensor rand = tensor([[0.8296, 0.3214, 0.8495, 0.0197],\n",
            "        [0.2561, 0.9025, 0.0454, 0.8535],\n",
            "        [0.4532, 0.2181, 0.1884, 0.8337],\n",
            "        [0.2751, 0.0222, 0.5432, 0.1372]])\n",
            "\n",
            "ts_rand[:,1] = tensor([0.3214, 0.9025, 0.2181, 0.0222])\n"
          ]
        }
      ]
    },
    {
      "cell_type": "markdown",
      "source": [
        "Concatenate or join"
      ],
      "metadata": {
        "id": "naE9jY2UVW9y"
      }
    },
    {
      "cell_type": "code",
      "source": [
        "# Concatenate or join\n",
        "# Along the column\n",
        "ts_ccat = torch.cat([ts_rand, torch.ones(4,4)], dim=1)\n",
        "print(ts_ccat)"
      ],
      "metadata": {
        "colab": {
          "base_uri": "https://localhost:8080/"
        },
        "id": "JeYLCbwYTG2e",
        "outputId": "207733de-c2dc-48e5-f335-632c72d65a8b"
      },
      "execution_count": 10,
      "outputs": [
        {
          "output_type": "stream",
          "name": "stdout",
          "text": [
            "tensor([[0.8296, 0.3214, 0.8495, 0.0197, 1.0000, 1.0000, 1.0000, 1.0000],\n",
            "        [0.2561, 0.9025, 0.0454, 0.8535, 1.0000, 1.0000, 1.0000, 1.0000],\n",
            "        [0.4532, 0.2181, 0.1884, 0.8337, 1.0000, 1.0000, 1.0000, 1.0000],\n",
            "        [0.2751, 0.0222, 0.5432, 0.1372, 1.0000, 1.0000, 1.0000, 1.0000]])\n"
          ]
        }
      ]
    },
    {
      "cell_type": "markdown",
      "source": [
        " Math operations"
      ],
      "metadata": {
        "id": "6JzdmJ_uVZxP"
      }
    },
    {
      "cell_type": "markdown",
      "source": [
        "<font color='green'> Q2: Using multiplication operators with tensors ? </font>"
      ],
      "metadata": {
        "id": "Q47R7otgVIQB"
      }
    },
    {
      "cell_type": "code",
      "source": [
        "ts_res = ts_rand * ts_ccat\n",
        "# What going on ?"
      ],
      "metadata": {
        "colab": {
          "base_uri": "https://localhost:8080/",
          "height": 190
        },
        "id": "49d5wKutUpvP",
        "outputId": "7cd3016e-10d1-46e3-9523-604c8116d986"
      },
      "execution_count": 19,
      "outputs": [
        {
          "output_type": "error",
          "ename": "RuntimeError",
          "evalue": "ignored",
          "traceback": [
            "\u001b[0;31m---------------------------------------------------------------------------\u001b[0m",
            "\u001b[0;31mRuntimeError\u001b[0m                              Traceback (most recent call last)",
            "\u001b[0;32m<ipython-input-19-e4db21c50a43>\u001b[0m in \u001b[0;36m<module>\u001b[0;34m\u001b[0m\n\u001b[0;32m----> 1\u001b[0;31m \u001b[0mts_res\u001b[0m \u001b[0;34m=\u001b[0m \u001b[0mts_rand\u001b[0m \u001b[0;34m*\u001b[0m \u001b[0mts_ccat\u001b[0m\u001b[0;34m\u001b[0m\u001b[0;34m\u001b[0m\u001b[0m\n\u001b[0m\u001b[1;32m      2\u001b[0m \u001b[0;31m# What going on ?\u001b[0m\u001b[0;34m\u001b[0m\u001b[0;34m\u001b[0m\u001b[0;34m\u001b[0m\u001b[0m\n",
            "\u001b[0;31mRuntimeError\u001b[0m: The size of tensor a (4) must match the size of tensor b (8) at non-singleton dimension 1"
          ]
        }
      ]
    },
    {
      "cell_type": "code",
      "source": [
        "ts_rand.matmul(ts_ccat)"
      ],
      "metadata": {
        "colab": {
          "base_uri": "https://localhost:8080/"
        },
        "id": "qQQZfxvzUxo-",
        "outputId": "279ce440-4e02-4202-ec29-c86bbe200945"
      },
      "execution_count": 12,
      "outputs": [
        {
          "output_type": "execute_result",
          "data": {
            "text/plain": [
              "tensor([[1.1609, 0.7424, 0.8900, 1.0015, 2.0201, 2.0201, 2.0201, 2.0201],\n",
              "        [0.6989, 0.9256, 0.7307, 0.9303, 2.0575, 2.0575, 2.0575, 2.0575],\n",
              "        [0.7465, 0.4021, 0.8832, 0.4666, 1.6934, 1.6934, 1.6934, 1.6934],\n",
              "        [0.5178, 0.2300, 0.4116, 0.4961, 0.9777, 0.9777, 0.9777, 0.9777]])"
            ]
          },
          "metadata": {},
          "execution_count": 12
        }
      ]
    },
    {
      "cell_type": "markdown",
      "source": [
        "Inplace operations"
      ],
      "metadata": {
        "id": "klw8p-muaGK0"
      }
    },
    {
      "cell_type": "code",
      "source": [
        "ts_ccat.add_(5)"
      ],
      "metadata": {
        "colab": {
          "base_uri": "https://localhost:8080/"
        },
        "id": "-rtRdaleZ8UF",
        "outputId": "96d0d750-4ea1-45b2-f363-bf45aa1fa275"
      },
      "execution_count": 13,
      "outputs": [
        {
          "output_type": "execute_result",
          "data": {
            "text/plain": [
              "tensor([[5.8296, 5.3214, 5.8495, 5.0197, 6.0000, 6.0000, 6.0000, 6.0000],\n",
              "        [5.2561, 5.9025, 5.0454, 5.8535, 6.0000, 6.0000, 6.0000, 6.0000],\n",
              "        [5.4532, 5.2181, 5.1884, 5.8337, 6.0000, 6.0000, 6.0000, 6.0000],\n",
              "        [5.2751, 5.0222, 5.5432, 5.1372, 6.0000, 6.0000, 6.0000, 6.0000]])"
            ]
          },
          "metadata": {},
          "execution_count": 13
        }
      ]
    },
    {
      "cell_type": "markdown",
      "source": [
        "Tensors to Numpy ndrrays"
      ],
      "metadata": {
        "id": "DYHZpoHzgSMS"
      }
    },
    {
      "cell_type": "code",
      "source": [
        "ts_x = torch.tensor([1,1,1])\n",
        "arr_x = ts_x.numpy()\n",
        "ts_x.add_(2)\n",
        "print(\"Check if the value of the array has changed as well\")\n",
        "print(ts_x.numpy() == arr_x)"
      ],
      "metadata": {
        "id": "48gK5pMOaP-u",
        "outputId": "46b63244-d2b9-464f-c0a4-da9ce30b9619",
        "colab": {
          "base_uri": "https://localhost:8080/"
        }
      },
      "execution_count": 18,
      "outputs": [
        {
          "output_type": "stream",
          "name": "stdout",
          "text": [
            "Check if the value of the array has changed as well\n",
            "[ True  True  True]\n"
          ]
        }
      ]
    },
    {
      "cell_type": "markdown",
      "source": [
        "<font color='light_blue'> In deep learning and with Pytorch, inputs and outputs as well as weights and biases are represented with tensors </font>"
      ],
      "metadata": {
        "id": "S2BxIvFdb4T6"
      }
    },
    {
      "cell_type": "markdown",
      "source": [
        "## 2- Learning Algorithm\n",
        "\n",
        "Training a Neural Network happens in two steps:\n",
        "\n",
        "*   **Forward Propagation**: It runs the input data through each layer and each activation of the network.\n",
        "*   **Backward Propagation**: The NN adjusts its parameters proportionate to the error in its guess. Traversing backwards from the output, *collecting the derivatives of the error with respect to the parameters of the functions*, and optimizing the parameters using gradient descent.\n",
        "\n",
        "More details [here](https://www.youtube.com/watch?v=tIeHLnjs5U8)\n",
        "\n"
      ],
      "metadata": {
        "id": "1p-pBMzNaFwk"
      }
    },
    {
      "cell_type": "code",
      "source": [
        "from torchvision.models import resnet18, ResNet18_Weights\n",
        "model = resnet18(weights=ResNet18_Weights.DEFAULT)\n",
        "data = torch.rand(1, 3, 64, 64)\n",
        "labels = torch.rand(1, 1000)"
      ],
      "metadata": {
        "id": "0BkQ3MX6g4xN",
        "outputId": "17a9a67e-6a8f-47a1-a5e3-7d7f98138365",
        "colab": {
          "base_uri": "https://localhost:8080/",
          "height": 87,
          "referenced_widgets": [
            "208a639483c44692976716711f2fcef3",
            "f95d110953f04e019ec3652e73429ee3",
            "482f20749b40451689fb44c8f023b612",
            "f9a1d332a9f54e118bec2a7b7d06efaf",
            "b6378eefd3f247c29d63f82332ba255f",
            "5fa089c2fff1433398639ba83b228233",
            "49da1ad8f5fe4ac5a5d63506e81602af",
            "fe7cda8f26894d90a25f23f704c80a48",
            "b3dfd80028c44149b86f127df2c8c79e",
            "dcfa7b1b333f4e509db4966708521648",
            "e2115f81fae243ecafa44bf9a0bdd832"
          ]
        }
      },
      "execution_count": 20,
      "outputs": [
        {
          "output_type": "stream",
          "name": "stderr",
          "text": [
            "Downloading: \"https://download.pytorch.org/models/resnet18-f37072fd.pth\" to /root/.cache/torch/hub/checkpoints/resnet18-f37072fd.pth\n"
          ]
        },
        {
          "output_type": "display_data",
          "data": {
            "text/plain": [
              "  0%|          | 0.00/44.7M [00:00<?, ?B/s]"
            ],
            "application/vnd.jupyter.widget-view+json": {
              "version_major": 2,
              "version_minor": 0,
              "model_id": "208a639483c44692976716711f2fcef3"
            }
          },
          "metadata": {}
        }
      ]
    },
    {
      "cell_type": "code",
      "source": [
        "# Forward Pass\n",
        "prediction = model(data)\n",
        "print(f\"The shape of the output tensor: {prediction.shape}\")\n",
        "\n",
        "# Calculate the loss, ie the error of the model given the prediction and the corresponding correct label\n",
        "loss = (prediction - labels).sum()\n",
        "print(f\"Loss = {loss}\")\n",
        "\n",
        "# Backpropagate the error through the network\n",
        "# By calling backward on the error tensor, the Autograd will be triggered\n",
        "# And the gradients for each model parameter are calculated and stored in the '.grad' attribute.\n",
        "loss.backward()\n"
      ],
      "metadata": {
        "id": "IBwrxkxZd3g7",
        "outputId": "2d66778e-2008-40e9-9ecd-7ec003eeb515",
        "colab": {
          "base_uri": "https://localhost:8080/"
        }
      },
      "execution_count": 28,
      "outputs": [
        {
          "output_type": "stream",
          "name": "stdout",
          "text": [
            "The shape of the output tensor: torch.Size([1, 1000])\n",
            "Loss = -517.5660400390625\n"
          ]
        }
      ]
    },
    {
      "cell_type": "code",
      "source": [
        "loss.grad"
      ],
      "metadata": {
        "id": "tDNSSIESd67e",
        "outputId": "cf04538e-5bb3-4ddc-ec49-914eb70d39c3",
        "colab": {
          "base_uri": "https://localhost:8080/"
        }
      },
      "execution_count": 33,
      "outputs": [
        {
          "output_type": "stream",
          "name": "stderr",
          "text": [
            "<ipython-input-33-09a6243c8d35>:1: UserWarning: The .grad attribute of a Tensor that is not a leaf Tensor is being accessed. Its .grad attribute won't be populated during autograd.backward(). If you indeed want the .grad field to be populated for a non-leaf Tensor, use .retain_grad() on the non-leaf Tensor. If you access the non-leaf Tensor by mistake, make sure you access the leaf Tensor instead. See github.com/pytorch/pytorch/pull/30531 for more informations. (Triggered internally at aten/src/ATen/core/TensorBody.h:480.)\n",
            "  loss.grad\n"
          ]
        }
      ]
    },
    {
      "cell_type": "code",
      "source": [],
      "metadata": {
        "id": "EFu2J7oYfr82"
      },
      "execution_count": null,
      "outputs": []
    }
  ]
}