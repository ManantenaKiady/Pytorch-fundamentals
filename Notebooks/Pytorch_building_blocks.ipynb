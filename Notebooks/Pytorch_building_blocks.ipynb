{
  "nbformat": 4,
  "nbformat_minor": 0,
  "metadata": {
    "colab": {
      "provenance": [],
      "authorship_tag": "ABX9TyMDLDHy5zBnenykYTmZ2QH9",
      "include_colab_link": true
    },
    "kernelspec": {
      "name": "python3",
      "display_name": "Python 3"
    },
    "language_info": {
      "name": "python"
    }
  },
  "cells": [
    {
      "cell_type": "markdown",
      "metadata": {
        "id": "view-in-github",
        "colab_type": "text"
      },
      "source": [
        "<a href=\"https://colab.research.google.com/github/ManantenaKiady/Pytorch-fundamentals/blob/master/Notebooks/Pytorch_building_blocks.ipynb\" target=\"_parent\"><img src=\"https://colab.research.google.com/assets/colab-badge.svg\" alt=\"Open In Colab\"/></a>"
      ]
    },
    {
      "cell_type": "markdown",
      "source": [
        "# What you will learn\n",
        "\n",
        "In this notebook, we will explore the building blocks of Pytorch ( Deep Learning)\n",
        "\n",
        "- Tensors\n",
        "- Learning Algorithms (Backpropagation)\n",
        "  - Forward and Backward Pass\n",
        "  - Auto-Grad\n",
        "- Datasets\n",
        "  - DataLoader\n",
        "- Optimizers"
      ],
      "metadata": {
        "id": "qW0i2hltaTvH"
      }
    },
    {
      "cell_type": "markdown",
      "source": [
        "## 1- Tensors\n",
        "\n",
        "Tensors are a specialized data structure that are very similar to arrays and matrices. (Multidimentional Arrays) *Source: https://pytorch.org/tutorials/*\n",
        "\n",
        "eg of tensors: \n",
        "\n",
        "`scalar: 1`\n",
        "\n",
        "`vector: [1, 2, 3]`\n",
        "\n",
        "`matrices: [[1,2,3][4,5,6]]`"
      ],
      "metadata": {
        "id": "2jzRRc2fe_0t"
      }
    },
    {
      "cell_type": "code",
      "execution_count": 2,
      "metadata": {
        "id": "tWn-SqNVaMtX"
      },
      "outputs": [],
      "source": [
        "import torch"
      ]
    },
    {
      "cell_type": "markdown",
      "source": [
        "### Initialize Tensors with `torch`"
      ],
      "metadata": {
        "id": "jOnP5mbghqp5"
      }
    },
    {
      "cell_type": "markdown",
      "source": [
        "**From Python list**"
      ],
      "metadata": {
        "id": "PFeLQaeai5h9"
      }
    },
    {
      "cell_type": "code",
      "source": [
        "# List of list in Python \n",
        "m = [[1,2,3],[4,5,6]]\n",
        "# Creating a tensor from list of list\n",
        "M = torch.tensor(m)\n",
        "\n",
        "print(f\"Type of m: {type(m)}\")\n",
        "print(f\"Type of M: {type(M)}\")"
      ],
      "metadata": {
        "colab": {
          "base_uri": "https://localhost:8080/"
        },
        "id": "NWrfT_rnhZfd",
        "outputId": "a68ef350-548c-4cea-d3bf-abc8cfdf2936"
      },
      "execution_count": 4,
      "outputs": [
        {
          "output_type": "stream",
          "name": "stdout",
          "text": [
            "Type of m: <class 'list'>\n",
            "Type of M: <class 'torch.Tensor'>\n"
          ]
        }
      ]
    },
    {
      "cell_type": "markdown",
      "source": [
        "**From Arrays (Numpy)**\n",
        "\n",
        "What is numpy, who knows ?\n",
        "\n",
        "Source: https://numpy.org/"
      ],
      "metadata": {
        "id": "HwmnQftGjBS_"
      }
    },
    {
      "cell_type": "code",
      "source": [
        "import numpy as np \n",
        "\n",
        "# Convert m into numpy array\n",
        "arr = np.array(m)\n",
        "print(f\"Type of arr: {type(arr)}\")\n",
        "# Transform arr into tensor\n",
        "ts_arr = torch.tensor(arr)\n",
        "print(f\"Type of ts_arr: {type(ts_arr)}\")"
      ],
      "metadata": {
        "colab": {
          "base_uri": "https://localhost:8080/"
        },
        "id": "pL5gfvUrijmF",
        "outputId": "1266d0b9-cda1-45c3-dacb-363976cdb85d"
      },
      "execution_count": 8,
      "outputs": [
        {
          "output_type": "stream",
          "name": "stdout",
          "text": [
            "Type of arr: <class 'numpy.ndarray'>\n",
            "Type of ts_arr: <class 'torch.Tensor'>\n"
          ]
        }
      ]
    },
    {
      "cell_type": "code",
      "source": [],
      "metadata": {
        "id": "Di7fj1Rfi9Oy"
      },
      "execution_count": null,
      "outputs": []
    }
  ]
}