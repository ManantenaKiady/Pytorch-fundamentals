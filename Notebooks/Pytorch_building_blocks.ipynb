{
  "nbformat": 4,
  "nbformat_minor": 0,
  "metadata": {
    "colab": {
      "provenance": [],
      "authorship_tag": "ABX9TyOiqsUClQn8rwzrnhenNJyc",
      "include_colab_link": true
    },
    "kernelspec": {
      "name": "python3",
      "display_name": "Python 3"
    },
    "language_info": {
      "name": "python"
    },
    "accelerator": "GPU",
    "gpuClass": "standard"
  },
  "cells": [
    {
      "cell_type": "markdown",
      "metadata": {
        "id": "view-in-github",
        "colab_type": "text"
      },
      "source": [
        "<a href=\"https://colab.research.google.com/github/ManantenaKiady/Pytorch-fundamentals/blob/master/Notebooks/Pytorch_building_blocks.ipynb\" target=\"_parent\"><img src=\"https://colab.research.google.com/assets/colab-badge.svg\" alt=\"Open In Colab\"/></a>"
      ]
    },
    {
      "cell_type": "markdown",
      "source": [
        "# What you will learn\n",
        "\n",
        "In this notebook, we will explore the building blocks of Pytorch ( Deep Learning)\n",
        "\n",
        "- Tensors\n",
        "- Learning Algorithms (Backpropagation)\n",
        "  - Forward and Backward Pass\n",
        "  - Auto-Grad\n",
        "- Datasets\n",
        "  - DataLoader\n",
        "- Optimizers"
      ],
      "metadata": {
        "id": "qW0i2hltaTvH"
      }
    },
    {
      "cell_type": "markdown",
      "source": [
        "## Setup"
      ],
      "metadata": {
        "id": "3CMW9YBCK2fb"
      }
    },
    {
      "cell_type": "code",
      "source": [
        "!pip3 install torch torchvision torchaudio\n",
        "\n",
        "# Check the installed version \n",
        "import torch\n",
        "torch.__version__\n"
      ],
      "metadata": {
        "colab": {
          "base_uri": "https://localhost:8080/",
          "height": 277
        },
        "id": "T1e84HnmO-A7",
        "outputId": "747b5acc-f8c2-4117-9cfe-d3417aaf94b4"
      },
      "execution_count": 3,
      "outputs": [
        {
          "output_type": "stream",
          "name": "stdout",
          "text": [
            "Looking in indexes: https://pypi.org/simple, https://us-python.pkg.dev/colab-wheels/public/simple/\n",
            "Requirement already satisfied: torch in /usr/local/lib/python3.8/dist-packages (1.13.0+cu116)\n",
            "Requirement already satisfied: torchvision in /usr/local/lib/python3.8/dist-packages (0.14.0+cu116)\n",
            "Requirement already satisfied: torchaudio in /usr/local/lib/python3.8/dist-packages (0.13.0+cu116)\n",
            "Requirement already satisfied: typing-extensions in /usr/local/lib/python3.8/dist-packages (from torch) (4.4.0)\n",
            "Requirement already satisfied: numpy in /usr/local/lib/python3.8/dist-packages (from torchvision) (1.21.6)\n",
            "Requirement already satisfied: pillow!=8.3.*,>=5.3.0 in /usr/local/lib/python3.8/dist-packages (from torchvision) (7.1.2)\n",
            "Requirement already satisfied: requests in /usr/local/lib/python3.8/dist-packages (from torchvision) (2.23.0)\n",
            "Requirement already satisfied: chardet<4,>=3.0.2 in /usr/local/lib/python3.8/dist-packages (from requests->torchvision) (3.0.4)\n",
            "Requirement already satisfied: certifi>=2017.4.17 in /usr/local/lib/python3.8/dist-packages (from requests->torchvision) (2022.12.7)\n",
            "Requirement already satisfied: idna<3,>=2.5 in /usr/local/lib/python3.8/dist-packages (from requests->torchvision) (2.10)\n",
            "Requirement already satisfied: urllib3!=1.25.0,!=1.25.1,<1.26,>=1.21.1 in /usr/local/lib/python3.8/dist-packages (from requests->torchvision) (1.24.3)\n"
          ]
        },
        {
          "output_type": "execute_result",
          "data": {
            "text/plain": [
              "'1.13.0+cu116'"
            ],
            "application/vnd.google.colaboratory.intrinsic+json": {
              "type": "string"
            }
          },
          "metadata": {},
          "execution_count": 3
        }
      ]
    },
    {
      "cell_type": "markdown",
      "source": [
        "Configure"
      ],
      "metadata": {
        "id": "D5PucLM_PFLR"
      }
    },
    {
      "cell_type": "code",
      "source": [
        "# Check if GPU are available and set the device to use it\n",
        "device = \"cuda\" if torch.cuda.is_available() else \"cpu\"\n",
        "print(f\"Using {device} device\")"
      ],
      "metadata": {
        "colab": {
          "base_uri": "https://localhost:8080/"
        },
        "id": "1WOymlHgPEsO",
        "outputId": "f4f297df-7db5-4411-f00b-074bc81fd3b1"
      },
      "execution_count": 4,
      "outputs": [
        {
          "output_type": "stream",
          "name": "stdout",
          "text": [
            "Using cuda device\n"
          ]
        }
      ]
    },
    {
      "cell_type": "markdown",
      "source": [
        "## 1- Tensors\n",
        "\n",
        "Tensors are a specialized data structure that are very similar to arrays and matrices. (Multidimentional Arrays)\n",
        " \n",
        "*Source: https://pytorch.org/tutorials/*\n",
        "\n",
        "eg of tensors: \n",
        "\n",
        "`scalar: 1`\n",
        "\n",
        "`vector: [1, 2, 3]`\n",
        "\n",
        "`matrices: [[1,2,3][4,5,6]]`"
      ],
      "metadata": {
        "id": "2jzRRc2fe_0t"
      }
    },
    {
      "cell_type": "code",
      "execution_count": 5,
      "metadata": {
        "id": "tWn-SqNVaMtX"
      },
      "outputs": [],
      "source": [
        "import torch"
      ]
    },
    {
      "cell_type": "markdown",
      "source": [
        "### Initialize Tensors with `torch`"
      ],
      "metadata": {
        "id": "jOnP5mbghqp5"
      }
    },
    {
      "cell_type": "markdown",
      "source": [
        "**From Python list**"
      ],
      "metadata": {
        "id": "PFeLQaeai5h9"
      }
    },
    {
      "cell_type": "code",
      "source": [
        "# List of list in Python \n",
        "m = [[1,2,3],[4,5,6]]\n",
        "# Creating a tensor from list of list\n",
        "M = torch.tensor(m)\n",
        "\n",
        "print(f\"Type of m: {type(m)}\")\n",
        "print(f\"Type of M: {type(M)}\")"
      ],
      "metadata": {
        "colab": {
          "base_uri": "https://localhost:8080/"
        },
        "id": "NWrfT_rnhZfd",
        "outputId": "a4dd88c7-055e-4385-b9c1-1b78a12a3bfa"
      },
      "execution_count": 6,
      "outputs": [
        {
          "output_type": "stream",
          "name": "stdout",
          "text": [
            "Type of m: <class 'list'>\n",
            "Type of M: <class 'torch.Tensor'>\n"
          ]
        }
      ]
    },
    {
      "cell_type": "markdown",
      "source": [
        "**From Arrays (Numpy)**\n",
        "\n",
        "What is numpy, who knows ?\n",
        "\n",
        "Source: https://numpy.org/"
      ],
      "metadata": {
        "id": "HwmnQftGjBS_"
      }
    },
    {
      "cell_type": "code",
      "source": [
        "import numpy as np \n",
        "\n",
        "# Convert m into numpy array\n",
        "arr = np.array(m)\n",
        "print(f\"Type of arr: {type(arr)}\")\n",
        "# Transform arr into tensor\n",
        "ts_arr = torch.tensor(arr)\n",
        "print(f\"Type of ts_arr: {type(ts_arr)}\")"
      ],
      "metadata": {
        "colab": {
          "base_uri": "https://localhost:8080/"
        },
        "id": "pL5gfvUrijmF",
        "outputId": "18622ca0-3a1b-452e-e9b1-2af4e8863f0b"
      },
      "execution_count": 7,
      "outputs": [
        {
          "output_type": "stream",
          "name": "stdout",
          "text": [
            "Type of arr: <class 'numpy.ndarray'>\n",
            "Type of ts_arr: <class 'torch.Tensor'>\n"
          ]
        }
      ]
    },
    {
      "cell_type": "markdown",
      "source": [
        "From another Tensor ?"
      ],
      "metadata": {
        "id": "jLxIsznMQcrz"
      }
    },
    {
      "cell_type": "markdown",
      "source": [
        "**Tensor Attributes**\n",
        "\n",
        "shape, dtype, device"
      ],
      "metadata": {
        "id": "_mm_5WVcPb0I"
      }
    },
    {
      "cell_type": "markdown",
      "source": [
        "<font color=\"green\"> Q1: Create a tensor from a python list and print all attributes ? </font>"
      ],
      "metadata": {
        "id": "OFzgoU7tPrx-"
      }
    },
    {
      "cell_type": "code",
      "source": [
        "# ------- Write your answer here --------"
      ],
      "metadata": {
        "id": "gqR2iI8yakLa"
      },
      "execution_count": 8,
      "outputs": []
    },
    {
      "cell_type": "markdown",
      "source": [
        "To make a tensor use of a specific device, we can use the `to(device)` method."
      ],
      "metadata": {
        "id": "LnIdjdk-RSD1"
      }
    },
    {
      "cell_type": "code",
      "source": [
        "ts_arr.device"
      ],
      "metadata": {
        "colab": {
          "base_uri": "https://localhost:8080/"
        },
        "id": "38P6eJDbRcvj",
        "outputId": "3a53982e-955a-48c8-98f1-7b92c41da8f8"
      },
      "execution_count": 9,
      "outputs": [
        {
          "output_type": "execute_result",
          "data": {
            "text/plain": [
              "device(type='cpu')"
            ]
          },
          "metadata": {},
          "execution_count": 9
        }
      ]
    },
    {
      "cell_type": "code",
      "source": [
        "ts_arr = ts_arr.to(device)\n",
        "print(f\"Tensor ts_arr is stored on: {ts_arr.device}\")"
      ],
      "metadata": {
        "colab": {
          "base_uri": "https://localhost:8080/"
        },
        "id": "0MWrZpioRjI_",
        "outputId": "70482f44-68d9-423c-8c29-eb0ad57bfd5f"
      },
      "execution_count": 10,
      "outputs": [
        {
          "output_type": "stream",
          "name": "stdout",
          "text": [
            "Tensor ts_arr is stored on: cuda:0\n"
          ]
        }
      ]
    },
    {
      "cell_type": "markdown",
      "source": [
        "**Operations with Tensors**\n",
        "\n",
        "Indexing, Slicing, Sampling, math Operations, etc More [here](https://pytorch.org/docs/stable/torch.html)"
      ],
      "metadata": {
        "id": "6CTg-FTnQeJ8"
      }
    },
    {
      "cell_type": "markdown",
      "source": [
        "Indexing"
      ],
      "metadata": {
        "id": "jCByfTNRVUFJ"
      }
    },
    {
      "cell_type": "code",
      "source": [
        "# Indexing\n",
        "\n",
        "ts_rand = torch.rand(4,4)\n",
        "print(f\"Tensor rand = {ts_rand}\")\n",
        "print()\n",
        "# All rows of column 1\n",
        "print(f\"ts_rand[:,1] = {ts_rand[:,1]}\")"
      ],
      "metadata": {
        "colab": {
          "base_uri": "https://localhost:8080/"
        },
        "id": "b1okPsY3RBLX",
        "outputId": "acba9506-de41-4a1f-c495-9ceacb14dee9"
      },
      "execution_count": 11,
      "outputs": [
        {
          "output_type": "stream",
          "name": "stdout",
          "text": [
            "Tensor rand = tensor([[0.8772, 0.9894, 0.9061, 0.3360],\n",
            "        [0.4406, 0.2018, 0.6038, 0.4859],\n",
            "        [0.0596, 0.0577, 0.9347, 0.0448],\n",
            "        [0.4305, 0.2725, 0.3176, 0.8522]])\n",
            "\n",
            "ts_rand[:,1] = tensor([0.9894, 0.2018, 0.0577, 0.2725])\n"
          ]
        }
      ]
    },
    {
      "cell_type": "markdown",
      "source": [
        "Concatenate or join"
      ],
      "metadata": {
        "id": "naE9jY2UVW9y"
      }
    },
    {
      "cell_type": "code",
      "source": [
        "# Concatenate or join\n",
        "# Along the column\n",
        "ts_ccat = torch.cat([ts_rand, torch.ones(4,4)], dim=1)\n",
        "print(ts_ccat)"
      ],
      "metadata": {
        "colab": {
          "base_uri": "https://localhost:8080/"
        },
        "id": "JeYLCbwYTG2e",
        "outputId": "9f88e2db-67d4-472d-8245-0c5ff72f5063"
      },
      "execution_count": 12,
      "outputs": [
        {
          "output_type": "stream",
          "name": "stdout",
          "text": [
            "tensor([[0.8772, 0.9894, 0.9061, 0.3360, 1.0000, 1.0000, 1.0000, 1.0000],\n",
            "        [0.4406, 0.2018, 0.6038, 0.4859, 1.0000, 1.0000, 1.0000, 1.0000],\n",
            "        [0.0596, 0.0577, 0.9347, 0.0448, 1.0000, 1.0000, 1.0000, 1.0000],\n",
            "        [0.4305, 0.2725, 0.3176, 0.8522, 1.0000, 1.0000, 1.0000, 1.0000]])\n"
          ]
        }
      ]
    },
    {
      "cell_type": "markdown",
      "source": [
        " Math operations"
      ],
      "metadata": {
        "id": "6JzdmJ_uVZxP"
      }
    },
    {
      "cell_type": "markdown",
      "source": [
        "<font color='green'> Q2: Using multiplication operators with tensors ? </font>"
      ],
      "metadata": {
        "id": "Q47R7otgVIQB"
      }
    },
    {
      "cell_type": "code",
      "source": [
        "ts_res = ts_rand * ts_ccat\n",
        "# What going on ?"
      ],
      "metadata": {
        "colab": {
          "base_uri": "https://localhost:8080/",
          "height": 190
        },
        "id": "49d5wKutUpvP",
        "outputId": "9f1a1b0c-1bed-4bfb-81cc-1dc57684efa5"
      },
      "execution_count": 13,
      "outputs": [
        {
          "output_type": "error",
          "ename": "RuntimeError",
          "evalue": "ignored",
          "traceback": [
            "\u001b[0;31m---------------------------------------------------------------------------\u001b[0m",
            "\u001b[0;31mRuntimeError\u001b[0m                              Traceback (most recent call last)",
            "\u001b[0;32m<ipython-input-13-e4db21c50a43>\u001b[0m in \u001b[0;36m<module>\u001b[0;34m\u001b[0m\n\u001b[0;32m----> 1\u001b[0;31m \u001b[0mts_res\u001b[0m \u001b[0;34m=\u001b[0m \u001b[0mts_rand\u001b[0m \u001b[0;34m*\u001b[0m \u001b[0mts_ccat\u001b[0m\u001b[0;34m\u001b[0m\u001b[0;34m\u001b[0m\u001b[0m\n\u001b[0m\u001b[1;32m      2\u001b[0m \u001b[0;31m# What going on ?\u001b[0m\u001b[0;34m\u001b[0m\u001b[0;34m\u001b[0m\u001b[0;34m\u001b[0m\u001b[0m\n",
            "\u001b[0;31mRuntimeError\u001b[0m: The size of tensor a (4) must match the size of tensor b (8) at non-singleton dimension 1"
          ]
        }
      ]
    },
    {
      "cell_type": "code",
      "source": [
        "ts_rand.matmul(ts_ccat)"
      ],
      "metadata": {
        "colab": {
          "base_uri": "https://localhost:8080/"
        },
        "id": "qQQZfxvzUxo-",
        "outputId": "e3c3d278-8ea2-4f7e-fcaa-27a54b82076e"
      },
      "execution_count": 14,
      "outputs": [
        {
          "output_type": "execute_result",
          "data": {
            "text/plain": [
              "tensor([[1.4042, 1.2114, 2.3459, 1.1024, 3.1087, 3.1087, 3.1087, 3.1087],\n",
              "        [0.7207, 0.6439, 1.2398, 0.6873, 1.7321, 1.7321, 1.7321, 1.7321],\n",
              "        [0.1528, 0.1368, 0.9767, 0.1281, 1.0968, 1.0968, 1.0968, 1.0968],\n",
              "        [0.8836, 0.7315, 1.1221, 1.0176, 1.8728, 1.8728, 1.8728, 1.8728]])"
            ]
          },
          "metadata": {},
          "execution_count": 14
        }
      ]
    },
    {
      "cell_type": "markdown",
      "source": [
        "Inplace operations"
      ],
      "metadata": {
        "id": "klw8p-muaGK0"
      }
    },
    {
      "cell_type": "code",
      "source": [
        "ts_ccat.add_(5)"
      ],
      "metadata": {
        "colab": {
          "base_uri": "https://localhost:8080/"
        },
        "id": "-rtRdaleZ8UF",
        "outputId": "c26dc0bd-0ccf-41ca-877e-deb79cd87761"
      },
      "execution_count": 15,
      "outputs": [
        {
          "output_type": "execute_result",
          "data": {
            "text/plain": [
              "tensor([[5.8772, 5.9894, 5.9061, 5.3360, 6.0000, 6.0000, 6.0000, 6.0000],\n",
              "        [5.4406, 5.2018, 5.6038, 5.4859, 6.0000, 6.0000, 6.0000, 6.0000],\n",
              "        [5.0596, 5.0577, 5.9347, 5.0448, 6.0000, 6.0000, 6.0000, 6.0000],\n",
              "        [5.4305, 5.2725, 5.3176, 5.8522, 6.0000, 6.0000, 6.0000, 6.0000]])"
            ]
          },
          "metadata": {},
          "execution_count": 15
        }
      ]
    },
    {
      "cell_type": "markdown",
      "source": [
        "Tensors to Numpy ndrrays"
      ],
      "metadata": {
        "id": "DYHZpoHzgSMS"
      }
    },
    {
      "cell_type": "code",
      "source": [
        "ts_x = torch.tensor([1,1,1])\n",
        "arr_x = ts_x.numpy()\n",
        "ts_x.add_(2)\n",
        "print(\"Check if the value of the array has changed as well\")\n",
        "print(ts_x.numpy() == arr_x)"
      ],
      "metadata": {
        "id": "48gK5pMOaP-u",
        "colab": {
          "base_uri": "https://localhost:8080/"
        },
        "outputId": "4b7ed2ab-9fbd-44ee-fb6f-dcf0b3d49a6d"
      },
      "execution_count": 16,
      "outputs": [
        {
          "output_type": "stream",
          "name": "stdout",
          "text": [
            "Check if the value of the array has changed as well\n",
            "[ True  True  True]\n"
          ]
        }
      ]
    },
    {
      "cell_type": "markdown",
      "source": [
        "<font color='light_blue'> In deep learning and with Pytorch, inputs and outputs as well as weights and biases are represented with tensors </font>"
      ],
      "metadata": {
        "id": "S2BxIvFdb4T6"
      }
    },
    {
      "cell_type": "markdown",
      "source": [
        "## 2- Learning Algorithm\n",
        "\n",
        "Training a Neural Network happens in two steps:\n",
        "\n",
        "*   **Forward Propagation**: It runs the input data through each layer and each activation of the network.\n",
        "*   **Backward Propagation**: The NN adjusts its parameters proportionate to the error in its guess. Traversing backwards from the output, *collecting the derivatives of the error with respect to the parameters of the functions*, and optimizing the parameters using gradient descent.\n",
        "\n",
        "More details [here](https://www.youtube.com/watch?v=tIeHLnjs5U8)\n",
        "\n"
      ],
      "metadata": {
        "id": "1p-pBMzNaFwk"
      }
    },
    {
      "cell_type": "code",
      "source": [
        "from torch import nn \n",
        "\n",
        "class NN(nn.Module):\n",
        "  def __init__(self):\n",
        "    super().__init__()\n",
        "    self.stack = nn.Sequential(\n",
        "        nn.Linear(2,2),\n",
        "        nn.Linear(2,1)\n",
        "    )\n",
        "  \n",
        "  def forward(self, X):\n",
        "    logits = self.stack(X)\n",
        "    return logits \n",
        "\n",
        "model = NN().to(device)\n",
        "print(model)\n"
      ],
      "metadata": {
        "id": "0BkQ3MX6g4xN",
        "colab": {
          "base_uri": "https://localhost:8080/"
        },
        "outputId": "d4db6405-679c-45dc-d6db-1ac762014b95"
      },
      "execution_count": 60,
      "outputs": [
        {
          "output_type": "stream",
          "name": "stdout",
          "text": [
            "NN(\n",
            "  (stack): Sequential(\n",
            "    (0): Linear(in_features=2, out_features=2, bias=True)\n",
            "    (1): Linear(in_features=2, out_features=1, bias=True)\n",
            "  )\n",
            ")\n"
          ]
        }
      ]
    },
    {
      "cell_type": "code",
      "source": [
        "data = torch.tensor([[1,2],[3,4]], dtype=torch.float).to(device)\n",
        "labels = torch.tensor([[0],[1]]).to(device)"
      ],
      "metadata": {
        "id": "NifIs-FQtEgJ"
      },
      "execution_count": 61,
      "outputs": []
    },
    {
      "cell_type": "code",
      "source": [
        "# Forward Pass\n",
        "prediction = model(data)\n",
        "print(f\"The shape of the output tensor: {prediction.shape}\")\n",
        "\n",
        "# Calculate the loss, ie the error of the model given the prediction and the corresponding correct label\n",
        "loss = (prediction - labels).sum()\n",
        "print(f\"Loss = {loss}\")\n",
        "\n",
        "# Backpropagate the error through the network\n",
        "# By calling backward on the error tensor, the Autograd will be triggered\n",
        "# And the gradients for each model parameter are calculated and stored in the '.grad' attribute.\n",
        "loss.backward()\n",
        "\n",
        "# Optimizer: create and register model parameters\n",
        "optimizer = torch.optim.SGD(model.parameters(), lr=1e-3)\n",
        "print(\"--------------------PARAMETERS----------------------\")\n",
        "print(f\"Parameters before update: {list(model.parameters())}\")\n",
        "# Then finally initiate the gradient descent algorithm ( here the SGD) and updates all models parameters\n",
        "optimizer.step()\n",
        "print(\"----------------------------------------------------\")\n",
        "print(f\"Parameters after update: {list(model.parameters())}\")"
      ],
      "metadata": {
        "colab": {
          "base_uri": "https://localhost:8080/"
        },
        "id": "IBwrxkxZd3g7",
        "outputId": "875f0890-6ca4-4edb-c777-c2fb0a22a0f6"
      },
      "execution_count": 65,
      "outputs": [
        {
          "output_type": "stream",
          "name": "stdout",
          "text": [
            "The shape of the output tensor: torch.Size([2, 1])\n",
            "Loss = -1.3901338577270508\n",
            "--------------------PARAMETERS----------------------\n",
            "Parameters before update: [Parameter containing:\n",
            "tensor([[ 0.3225, -0.0558],\n",
            "        [ 0.2485,  0.0699]], device='cuda:0', requires_grad=True), Parameter containing:\n",
            "tensor([-0.0340, -0.2507], device='cuda:0', requires_grad=True), Parameter containing:\n",
            "tensor([[-0.3925, -0.3121]], device='cuda:0', requires_grad=True), Parameter containing:\n",
            "tensor([0.1215], device='cuda:0', requires_grad=True)]\n",
            "----------------------------------------------------\n",
            "Parameters after update: [Parameter containing:\n",
            "tensor([[ 0.3288, -0.0464],\n",
            "        [ 0.2535,  0.0773]], device='cuda:0', requires_grad=True), Parameter containing:\n",
            "tensor([-0.0309, -0.2482], device='cuda:0', requires_grad=True), Parameter containing:\n",
            "tensor([[-0.3958, -0.3155]], device='cuda:0', requires_grad=True), Parameter containing:\n",
            "tensor([0.1135], device='cuda:0', requires_grad=True)]\n"
          ]
        }
      ]
    },
    {
      "cell_type": "markdown",
      "source": [
        "**Frozen Parameters**\n",
        "\n",
        "In some cases, we don't need to update all parameters of the model, this is called **finetuning** in deep learning. To do so, we need to set the gradients to false for any parameters (Tensors) that are not required updates."
      ],
      "metadata": {
        "id": "K9DC_K7hymDE"
      }
    },
    {
      "cell_type": "code",
      "source": [
        "for name, param in model.named_parameters():\n",
        "  print(name)\n",
        "  param.requires_grad_(False)"
      ],
      "metadata": {
        "colab": {
          "base_uri": "https://localhost:8080/"
        },
        "id": "tDNSSIESd67e",
        "outputId": "de37ed64-46ac-47dc-b600-4cc4f31353c3"
      },
      "execution_count": 70,
      "outputs": [
        {
          "output_type": "stream",
          "name": "stdout",
          "text": [
            "stack.0.weight\n",
            "stack.0.bias\n",
            "stack.1.weight\n",
            "stack.1.bias\n"
          ]
        }
      ]
    },
    {
      "cell_type": "code",
      "source": [
        "model.get_parameter(\"stack.0.weight\")"
      ],
      "metadata": {
        "colab": {
          "base_uri": "https://localhost:8080/"
        },
        "id": "EFu2J7oYfr82",
        "outputId": "89174881-cc52-4a29-bc46-603329d4d99d"
      },
      "execution_count": 76,
      "outputs": [
        {
          "output_type": "execute_result",
          "data": {
            "text/plain": [
              "Parameter containing:\n",
              "tensor([[ 0.3288, -0.0464],\n",
              "        [ 0.2535,  0.0773]], device='cuda:0')"
            ]
          },
          "metadata": {},
          "execution_count": 76
        }
      ]
    },
    {
      "cell_type": "code",
      "source": [],
      "metadata": {
        "id": "GvQyFnH5vYzf"
      },
      "execution_count": null,
      "outputs": []
    }
  ]
}